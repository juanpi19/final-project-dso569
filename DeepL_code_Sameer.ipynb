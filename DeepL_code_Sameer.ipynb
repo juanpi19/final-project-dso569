{
  "cells": [
    {
      "cell_type": "markdown",
      "metadata": {
        "id": "1mdBU5Hgrm-a"
      },
      "source": [
        "## **Deep Learning for Causal Inference by Vikas Ramachandra**\n",
        "\n",
        "Applying the concepts from the \"Deep Learning for Causal Inference\" paper authored by Vikas Ramachandra to the data_for_churn_analysis dataset\n",
        "\n",
        "link to the paper: <a>https://arxiv.org/abs/1803.00149</a>"
      ]
    },
    {
      "cell_type": "code",
      "execution_count": 61,
      "metadata": {
        "id": "zvpIJP04rm-c",
        "metadata": {}
      },
      "outputs": [],
      "source": [
        "# DA\n",
        "import pandas as pd\n",
        "import numpy as np\n",
        "import matplotlib.pyplot as plt\n",
        "\n",
        "# ML\n",
        "from sklearn.preprocessing import LabelEncoder\n",
        "from sklearn.model_selection import train_test_split\n",
        "from sklearn.linear_model import LogisticRegression\n",
        "from sklearn.preprocessing import StandardScaler\n",
        "from sklearn.decomposition import PCA\n",
        "\n",
        "\n",
        "import tensorflow as tf\n",
        "from tensorflow.keras.layers import Input, Dense\n",
        "from tensorflow.keras.models import Model\n",
        "from tensorflow.keras.optimizers import Adam\n",
        "from tensorflow.keras.models import Sequential\n",
        "from tensorflow.keras.layers import Dropout\n",
        "\n",
        "# Metrics\n",
        "from sklearn.metrics import accuracy_score, mean_absolute_percentage_error, mean_absolute_error\n",
        "\n"
      ]
    },
    {
      "cell_type": "code",
      "execution_count": 4,
      "metadata": {
        "id": "8SYz7N7arm-c",
        "metadata": {}
      },
      "outputs": [],
      "source": [
        "# Loading dataset\n",
        "df = pd.read_csv('data_for_churn_analysis.csv')"
      ]
    },
    {
      "cell_type": "code",
      "execution_count": 5,
      "metadata": {
        "colab": {
          "base_uri": "https://localhost:8080/"
        },
        "id": "OQKDeQ46rm-c",
        "metadata": {},
        "outputId": "a070e69c-235e-4fb1-a49e-c49882c49c04"
      },
      "outputs": [
        {
          "data": {
            "text/plain": [
              "(104143, 18)"
            ]
          },
          "execution_count": 5,
          "metadata": {},
          "output_type": "execute_result"
        }
      ],
      "source": [
        "df.shape"
      ]
    },
    {
      "cell_type": "code",
      "execution_count": 6,
      "metadata": {
        "colab": {
          "base_uri": "https://localhost:8080/"
        },
        "id": "WX90IDW1rm-d",
        "metadata": {},
        "outputId": "16c3563e-0cbd-4ea1-a88a-6accff434aba"
      },
      "outputs": [
        {
          "name": "stdout",
          "output_type": "stream",
          "text": [
            "<class 'pandas.core.frame.DataFrame'>\n",
            "RangeIndex: 104143 entries, 0 to 104142\n",
            "Data columns (total 18 columns):\n",
            " #   Column                                 Non-Null Count   Dtype  \n",
            "---  ------                                 --------------   -----  \n",
            " 0   device                                 104025 non-null  object \n",
            " 1   first_payment_amount                   104143 non-null  int64  \n",
            " 2   age                                    104001 non-null  float64\n",
            " 3   city                                   98301 non-null   object \n",
            " 4   number_of_cards                        103671 non-null  float64\n",
            " 5   payments_initiated                     103671 non-null  float64\n",
            " 6   payments_failed                        103671 non-null  float64\n",
            " 7   payments_completed                     103671 non-null  float64\n",
            " 8   payments_completed_amount_first_7days  103671 non-null  float64\n",
            " 9   reward_purchase_count_first_7days      80879 non-null   float64\n",
            " 10  coins_redeemed_first_7days             103671 non-null  float64\n",
            " 11  is_referral                            104143 non-null  bool   \n",
            " 12  visits_feature_1                       101497 non-null  float64\n",
            " 13  visits_feature_2                       101497 non-null  float64\n",
            " 14  given_permission_1                     104143 non-null  int64  \n",
            " 15  given_permission_2                     104143 non-null  int64  \n",
            " 16  user_id                                104143 non-null  int64  \n",
            " 17  is_churned                             104143 non-null  int64  \n",
            "dtypes: bool(1), float64(10), int64(5), object(2)\n",
            "memory usage: 13.6+ MB\n"
          ]
        }
      ],
      "source": [
        "df.info()"
      ]
    },
    {
      "cell_type": "code",
      "execution_count": 7,
      "metadata": {
        "colab": {
          "base_uri": "https://localhost:8080/"
        },
        "id": "OoV-zMYgrm-d",
        "outputId": "ea8ab164-100f-4f4e-c725-8b94394e5c84"
      },
      "outputs": [
        {
          "name": "stdout",
          "output_type": "stream",
          "text": [
            "df.isnull().sum().sum()=37490\n",
            "perc of dataset missing 0.3599857887712088\n"
          ]
        }
      ],
      "source": [
        "# null values?\n",
        "print(f\"{df.isnull().sum().sum()=}\")\n",
        "print(f\"perc of dataset missing {df.isnull().sum().sum()/df.shape[0]}\")"
      ]
    },
    {
      "cell_type": "code",
      "execution_count": 8,
      "metadata": {
        "colab": {
          "base_uri": "https://localhost:8080/"
        },
        "id": "FgvZy3Ujrm-d",
        "outputId": "9b1e33a6-b7a0-40fe-87de-40e2c0094f4b"
      },
      "outputs": [
        {
          "data": {
            "text/plain": [
              "is_churned\n",
              "0    0.713192\n",
              "1    0.286808\n",
              "Name: proportion, dtype: float64"
            ]
          },
          "execution_count": 8,
          "metadata": {},
          "output_type": "execute_result"
        }
      ],
      "source": [
        "# proportion of people who have churned\n",
        "df['is_churned'].value_counts(normalize=True)"
      ]
    },
    {
      "cell_type": "markdown",
      "metadata": {
        "id": "2EqFfmVArm-d"
      },
      "source": [
        "### 1. **Impact of Referrals on Customer Acquisition and Retention**:\n",
        "   - Research Question: Do customers acquired through referrals (`is_referral`) exhibit different behaviors and retention rates compared to non-referred customers?\n",
        "   - Treatment: Customer acquisition through referrals\n",
        "   - Outcome: Customer behavior (e.g., `payments_initiated`, `payments_completed`, `visits_feature_1`, `visits_feature_2`) and churn (`is_churned`)\n",
        "   - Potential Confounders: `device`, `age`, `city`, `number_of_cards`, `payments_failed`, `payments_completed_amount_first_7days`, `reward_purchase_count_first_7days`, `coins_redeemed_first_7days`, `given_permission_1`, `given_permission_2`"
      ]
    },
    {
      "cell_type": "markdown",
      "metadata": {
        "id": "eEakGKKlrm-d"
      },
      "source": [
        "$$Y_i = f(T_i, X_i, \\epsilon_i)$$\n",
        "\n",
        "Where:\n",
        "\n",
        "- $Y_i$ represents the outcome variable `is_churned` for customer $i$\n",
        "- $T_i$ is the treatment variable `is_referral`, indicating whether customer $i$ was acquired through a referral\n",
        "- $X_i$ represents the vector of potential confounding variables for customer $i$, such as `device`, `age`, `city`, `number_of_cards`, `payments_failed`, `payments_completed_amount_first_7days`, `reward_purchase_count_first_7days`, `coins_redeemed_first_7days`, `given_permission_1`, `given_permission_2`\n",
        "- $\\epsilon_i$ is the error term, accounting for unobserved factors affecting the outcome\n",
        "- $f$ is an unknown function that maps the treatment, confounders, and error term to the outcome"
      ]
    },
    {
      "cell_type": "code",
      "execution_count": 9,
      "metadata": {
        "id": "Xvw_7xl1rm-d"
      },
      "outputs": [],
      "source": [
        "# -------------- DATA PREPROCESSING --------------------\n",
        "\n",
        "# Encoding using label encoding technique\n",
        "obj_cols = df.select_dtypes(include='object').columns # grabs object dtypes columns\n",
        "le = LabelEncoder() # creates LabelEncoder instance\n",
        "for col in obj_cols:\n",
        "    df[col] = le.fit_transform(df[col]) # encodes each column\n",
        "\n",
        "df['is_referral'] = np.where(df['is_referral'] == True, 1, 0)\n",
        "\n",
        "\n",
        "# -------------- IMPUTING MISSING VALUES --------------------\n",
        "missing_cols = df.columns[df.isna().any()].tolist()\n",
        "for col in missing_cols:\n",
        "    df[col] = df[col].fillna(df[col].mean())\n",
        "\n",
        "\n",
        "# -------------- DATA SPLIT --------------------\n",
        "\n",
        "confounders = [\n",
        "    'device',\n",
        "    'age',\n",
        "    'city',\n",
        "    'number_of_cards',\n",
        "    'payments_failed',\n",
        "    'payments_completed_amount_first_7days',\n",
        "    'reward_purchase_count_first_7days',\n",
        "    'coins_redeemed_first_7days',\n",
        "    'given_permission_1',\n",
        "    'given_permission_2',\n",
        "    'is_referral' # treatment\n",
        "]\n",
        "\n",
        "y = df['is_churned']\n",
        "X = df[confounders]\n",
        "\n",
        "scaler = StandardScaler()\n",
        "X_scaled = scaler.fit_transform(X)\n",
        "\n",
        "\n",
        "X_train, X_test = train_test_split(X, test_size=0.2, random_state=42)\n",
        "Y_train, Y_test = train_test_split(y, test_size=0.2, random_state=42)"
      ]
    },
    {
      "cell_type": "markdown",
      "metadata": {
        "id": "VaMEkZ6rrm-e"
      },
      "source": [
        "### 1. **Generalized Neighbor Matching using Autoencoders**\n",
        "\n",
        "The paper proposes using autoencoders, a type of deep neural network, for dimensionality reduction while preserving the local neighborhood structure of the data. This is useful for generalized neighbor matching to estimate individual treatment effects (ITEs).\n",
        "\n",
        "The key points are:\n",
        "\n",
        "* In high dimensions, traditional neighbor matching methods like k-nearest neighbors struggle\n",
        "* Autoencoders can learn a low-dimensional representation that captures the manifold structure\n",
        "* This low-dimensional encoding preserves local neighborhoods for accurate neighbor identification\n",
        "* Experiments show autoencoders outperform methods like manifold learning for ITE estimation"
      ]
    },
    {
      "cell_type": "code",
      "execution_count": null,
      "metadata": {},
      "outputs": [],
      "source": []
    },
    {
      "cell_type": "markdown",
      "metadata": {},
      "source": [
        "#### **PCA**"
      ]
    },
    {
      "cell_type": "code",
      "execution_count": 62,
      "metadata": {},
      "outputs": [],
      "source": [
        "# Create a PCA instance\n",
        "pca = PCA(n_components=3)  # Choose the number of components you want to keep\n",
        "\n",
        "# Fit PCA to the scaled data\n",
        "pca.fit(X_train)\n",
        "\n",
        "# Transform the data to the new feature space\n",
        "transformed_data = pca.transform(X_train)"
      ]
    },
    {
      "cell_type": "code",
      "execution_count": 64,
      "metadata": {},
      "outputs": [
        {
          "data": {
            "text/html": [
              "<div>\n",
              "<style scoped>\n",
              "    .dataframe tbody tr th:only-of-type {\n",
              "        vertical-align: middle;\n",
              "    }\n",
              "\n",
              "    .dataframe tbody tr th {\n",
              "        vertical-align: top;\n",
              "    }\n",
              "\n",
              "    .dataframe thead th {\n",
              "        text-align: right;\n",
              "    }\n",
              "</style>\n",
              "<table border=\"1\" class=\"dataframe\">\n",
              "  <thead>\n",
              "    <tr style=\"text-align: right;\">\n",
              "      <th></th>\n",
              "      <th>device</th>\n",
              "      <th>age</th>\n",
              "      <th>city</th>\n",
              "      <th>number_of_cards</th>\n",
              "      <th>payments_failed</th>\n",
              "      <th>payments_completed_amount_first_7days</th>\n",
              "      <th>reward_purchase_count_first_7days</th>\n",
              "      <th>coins_redeemed_first_7days</th>\n",
              "      <th>given_permission_1</th>\n",
              "      <th>given_permission_2</th>\n",
              "      <th>is_referral</th>\n",
              "    </tr>\n",
              "  </thead>\n",
              "  <tbody>\n",
              "    <tr>\n",
              "      <th>70066</th>\n",
              "      <td>25</td>\n",
              "      <td>34.0</td>\n",
              "      <td>438</td>\n",
              "      <td>3.0</td>\n",
              "      <td>1.0</td>\n",
              "      <td>22.0</td>\n",
              "      <td>1.000000</td>\n",
              "      <td>3.0</td>\n",
              "      <td>1</td>\n",
              "      <td>1</td>\n",
              "      <td>1</td>\n",
              "    </tr>\n",
              "    <tr>\n",
              "      <th>51130</th>\n",
              "      <td>67</td>\n",
              "      <td>31.0</td>\n",
              "      <td>5</td>\n",
              "      <td>0.0</td>\n",
              "      <td>0.0</td>\n",
              "      <td>7.0</td>\n",
              "      <td>2.042075</td>\n",
              "      <td>0.0</td>\n",
              "      <td>1</td>\n",
              "      <td>0</td>\n",
              "      <td>0</td>\n",
              "    </tr>\n",
              "    <tr>\n",
              "      <th>88048</th>\n",
              "      <td>69</td>\n",
              "      <td>39.0</td>\n",
              "      <td>438</td>\n",
              "      <td>2.0</td>\n",
              "      <td>0.0</td>\n",
              "      <td>309.0</td>\n",
              "      <td>4.000000</td>\n",
              "      <td>303.0</td>\n",
              "      <td>1</td>\n",
              "      <td>0</td>\n",
              "      <td>0</td>\n",
              "    </tr>\n",
              "    <tr>\n",
              "      <th>100860</th>\n",
              "      <td>39</td>\n",
              "      <td>53.0</td>\n",
              "      <td>430</td>\n",
              "      <td>1.0</td>\n",
              "      <td>0.0</td>\n",
              "      <td>17.0</td>\n",
              "      <td>0.000000</td>\n",
              "      <td>17.0</td>\n",
              "      <td>1</td>\n",
              "      <td>0</td>\n",
              "      <td>1</td>\n",
              "    </tr>\n",
              "    <tr>\n",
              "      <th>25182</th>\n",
              "      <td>69</td>\n",
              "      <td>27.0</td>\n",
              "      <td>689</td>\n",
              "      <td>0.0</td>\n",
              "      <td>1.0</td>\n",
              "      <td>2.0</td>\n",
              "      <td>2.042075</td>\n",
              "      <td>0.0</td>\n",
              "      <td>1</td>\n",
              "      <td>1</td>\n",
              "      <td>0</td>\n",
              "    </tr>\n",
              "    <tr>\n",
              "      <th>...</th>\n",
              "      <td>...</td>\n",
              "      <td>...</td>\n",
              "      <td>...</td>\n",
              "      <td>...</td>\n",
              "      <td>...</td>\n",
              "      <td>...</td>\n",
              "      <td>...</td>\n",
              "      <td>...</td>\n",
              "      <td>...</td>\n",
              "      <td>...</td>\n",
              "      <td>...</td>\n",
              "    </tr>\n",
              "    <tr>\n",
              "      <th>54886</th>\n",
              "      <td>51</td>\n",
              "      <td>31.0</td>\n",
              "      <td>544</td>\n",
              "      <td>0.0</td>\n",
              "      <td>0.0</td>\n",
              "      <td>0.0</td>\n",
              "      <td>2.042075</td>\n",
              "      <td>0.0</td>\n",
              "      <td>1</td>\n",
              "      <td>1</td>\n",
              "      <td>1</td>\n",
              "    </tr>\n",
              "    <tr>\n",
              "      <th>76820</th>\n",
              "      <td>69</td>\n",
              "      <td>35.0</td>\n",
              "      <td>438</td>\n",
              "      <td>2.0</td>\n",
              "      <td>0.0</td>\n",
              "      <td>10.0</td>\n",
              "      <td>1.000000</td>\n",
              "      <td>3.0</td>\n",
              "      <td>0</td>\n",
              "      <td>0</td>\n",
              "      <td>1</td>\n",
              "    </tr>\n",
              "    <tr>\n",
              "      <th>103694</th>\n",
              "      <td>42</td>\n",
              "      <td>67.0</td>\n",
              "      <td>259</td>\n",
              "      <td>3.0</td>\n",
              "      <td>0.0</td>\n",
              "      <td>19.0</td>\n",
              "      <td>0.000000</td>\n",
              "      <td>0.0</td>\n",
              "      <td>1</td>\n",
              "      <td>0</td>\n",
              "      <td>1</td>\n",
              "    </tr>\n",
              "    <tr>\n",
              "      <th>860</th>\n",
              "      <td>2</td>\n",
              "      <td>22.0</td>\n",
              "      <td>63</td>\n",
              "      <td>1.0</td>\n",
              "      <td>0.0</td>\n",
              "      <td>41.0</td>\n",
              "      <td>2.000000</td>\n",
              "      <td>20.0</td>\n",
              "      <td>1</td>\n",
              "      <td>1</td>\n",
              "      <td>0</td>\n",
              "    </tr>\n",
              "    <tr>\n",
              "      <th>15795</th>\n",
              "      <td>54</td>\n",
              "      <td>26.0</td>\n",
              "      <td>105</td>\n",
              "      <td>1.0</td>\n",
              "      <td>3.0</td>\n",
              "      <td>24.0</td>\n",
              "      <td>1.000000</td>\n",
              "      <td>17.0</td>\n",
              "      <td>1</td>\n",
              "      <td>1</td>\n",
              "      <td>0</td>\n",
              "    </tr>\n",
              "  </tbody>\n",
              "</table>\n",
              "<p>83314 rows × 11 columns</p>\n",
              "</div>"
            ],
            "text/plain": [
              "        device   age  city  number_of_cards  payments_failed  \\\n",
              "70066       25  34.0   438              3.0              1.0   \n",
              "51130       67  31.0     5              0.0              0.0   \n",
              "88048       69  39.0   438              2.0              0.0   \n",
              "100860      39  53.0   430              1.0              0.0   \n",
              "25182       69  27.0   689              0.0              1.0   \n",
              "...        ...   ...   ...              ...              ...   \n",
              "54886       51  31.0   544              0.0              0.0   \n",
              "76820       69  35.0   438              2.0              0.0   \n",
              "103694      42  67.0   259              3.0              0.0   \n",
              "860          2  22.0    63              1.0              0.0   \n",
              "15795       54  26.0   105              1.0              3.0   \n",
              "\n",
              "        payments_completed_amount_first_7days  \\\n",
              "70066                                    22.0   \n",
              "51130                                     7.0   \n",
              "88048                                   309.0   \n",
              "100860                                   17.0   \n",
              "25182                                     2.0   \n",
              "...                                       ...   \n",
              "54886                                     0.0   \n",
              "76820                                    10.0   \n",
              "103694                                   19.0   \n",
              "860                                      41.0   \n",
              "15795                                    24.0   \n",
              "\n",
              "        reward_purchase_count_first_7days  coins_redeemed_first_7days  \\\n",
              "70066                            1.000000                         3.0   \n",
              "51130                            2.042075                         0.0   \n",
              "88048                            4.000000                       303.0   \n",
              "100860                           0.000000                        17.0   \n",
              "25182                            2.042075                         0.0   \n",
              "...                                   ...                         ...   \n",
              "54886                            2.042075                         0.0   \n",
              "76820                            1.000000                         3.0   \n",
              "103694                           0.000000                         0.0   \n",
              "860                              2.000000                        20.0   \n",
              "15795                            1.000000                        17.0   \n",
              "\n",
              "        given_permission_1  given_permission_2  is_referral  \n",
              "70066                    1                   1            1  \n",
              "51130                    1                   0            0  \n",
              "88048                    1                   0            0  \n",
              "100860                   1                   0            1  \n",
              "25182                    1                   1            0  \n",
              "...                    ...                 ...          ...  \n",
              "54886                    1                   1            1  \n",
              "76820                    0                   0            1  \n",
              "103694                   1                   0            1  \n",
              "860                      1                   1            0  \n",
              "15795                    1                   1            0  \n",
              "\n",
              "[83314 rows x 11 columns]"
            ]
          },
          "execution_count": 64,
          "metadata": {},
          "output_type": "execute_result"
        }
      ],
      "source": [
        "X_train"
      ]
    },
    {
      "cell_type": "code",
      "execution_count": 63,
      "metadata": {},
      "outputs": [
        {
          "data": {
            "text/plain": [
              "array([[-79.33875926, -35.69067607,  -6.15759073],\n",
              "       [352.86328079, -63.69511059,  -1.57449548],\n",
              "       [-68.95579316, 341.77407004, 166.25225727],\n",
              "       ...,\n",
              "       [ 99.36083023, -44.82026996,  -7.23203598],\n",
              "       [296.29345832, -22.21283644,   2.51618841],\n",
              "       [253.58859779, -38.57679299,   7.35293041]])"
            ]
          },
          "execution_count": 63,
          "metadata": {},
          "output_type": "execute_result"
        }
      ],
      "source": [
        "transformed_data"
      ]
    },
    {
      "cell_type": "markdown",
      "metadata": {},
      "source": [
        "#### **Manifold Learning**"
      ]
    },
    {
      "cell_type": "code",
      "execution_count": null,
      "metadata": {},
      "outputs": [],
      "source": []
    },
    {
      "cell_type": "code",
      "execution_count": null,
      "metadata": {},
      "outputs": [],
      "source": []
    },
    {
      "cell_type": "markdown",
      "metadata": {},
      "source": [
        "#### **Autoencoder**"
      ]
    },
    {
      "cell_type": "code",
      "execution_count": 10,
      "metadata": {
        "id": "VastVKpxrm-e"
      },
      "outputs": [],
      "source": [
        "input_dim = X.shape[1]  # Features count\n",
        "\n",
        "# Input layer\n",
        "input_layer = Input(shape=(input_dim, ))\n",
        "\n",
        "# Encoder: Reduce dimensionality\n",
        "encoded_1 = Dense(64, activation='relu')(input_layer)\n",
        "encoded_2 = Dense(32, activation='relu')(encoded_1)\n",
        "encoded_3 = Dense(16, activation='relu')(encoded_2)\n",
        "encoded_4 = Dense(8, activation='relu')(encoded_3)\n",
        "\n",
        "# Decoder: Reconstruct the input\n",
        "decoded_1 = Dense(16, activation='relu')(encoded_4)\n",
        "decoded_2 = Dense(32, activation='relu')(decoded_1)\n",
        "decoded_3 = Dense(64, activation='relu')(decoded_2)\n",
        "decoded_4 = Dense(input_dim, activation='linear')(decoded_3)  # Final output layer\n",
        "\n",
        "# Autoencoder model\n",
        "autoencoder = Model(inputs=input_layer, outputs=decoded_4)  # Ensure to output from the last decoding layer\n",
        "autoencoder.compile(optimizer='adam', loss='mean_squared_error')"
      ]
    },
    {
      "cell_type": "code",
      "execution_count": 16,
      "metadata": {
        "colab": {
          "base_uri": "https://localhost:8080/"
        },
        "id": "ey_7YBXBrm-e",
        "outputId": "976cfc0b-d297-41b1-84e6-bcd9005c5703"
      },
      "outputs": [
        {
          "name": "stdout",
          "output_type": "stream",
          "text": [
            "Epoch 1/50\n",
            "\u001b[1m326/326\u001b[0m \u001b[32m━━━━━━━━━━━━━━━━━━━━\u001b[0m\u001b[37m\u001b[0m \u001b[1m1s\u001b[0m 2ms/step - loss: 687.5041 - val_loss: 0.2796\n",
            "Epoch 2/50\n",
            "\u001b[1m326/326\u001b[0m \u001b[32m━━━━━━━━━━━━━━━━━━━━\u001b[0m\u001b[37m\u001b[0m \u001b[1m1s\u001b[0m 2ms/step - loss: 0.2610 - val_loss: 0.2268\n",
            "Epoch 3/50\n",
            "\u001b[1m326/326\u001b[0m \u001b[32m━━━━━━━━━━━━━━━━━━━━\u001b[0m\u001b[37m\u001b[0m \u001b[1m1s\u001b[0m 2ms/step - loss: 0.2202 - val_loss: 0.2155\n",
            "Epoch 4/50\n",
            "\u001b[1m326/326\u001b[0m \u001b[32m━━━━━━━━━━━━━━━━━━━━\u001b[0m\u001b[37m\u001b[0m \u001b[1m1s\u001b[0m 2ms/step - loss: 0.2111 - val_loss: 0.2098\n",
            "Epoch 5/50\n",
            "\u001b[1m326/326\u001b[0m \u001b[32m━━━━━━━━━━━━━━━━━━━━\u001b[0m\u001b[37m\u001b[0m \u001b[1m1s\u001b[0m 2ms/step - loss: 0.2091 - val_loss: 0.2069\n",
            "Epoch 6/50\n",
            "\u001b[1m326/326\u001b[0m \u001b[32m━━━━━━━━━━━━━━━━━━━━\u001b[0m\u001b[37m\u001b[0m \u001b[1m1s\u001b[0m 2ms/step - loss: 0.2066 - val_loss: 0.2064\n",
            "Epoch 7/50\n",
            "\u001b[1m326/326\u001b[0m \u001b[32m━━━━━━━━━━━━━━━━━━━━\u001b[0m\u001b[37m\u001b[0m \u001b[1m1s\u001b[0m 2ms/step - loss: 0.2084 - val_loss: 0.2046\n",
            "Epoch 8/50\n",
            "\u001b[1m326/326\u001b[0m \u001b[32m━━━━━━━━━━━━━━━━━━━━\u001b[0m\u001b[37m\u001b[0m \u001b[1m1s\u001b[0m 2ms/step - loss: 0.2076 - val_loss: 0.2038\n",
            "Epoch 9/50\n",
            "\u001b[1m326/326\u001b[0m \u001b[32m━━━━━━━━━━━━━━━━━━━━\u001b[0m\u001b[37m\u001b[0m \u001b[1m1s\u001b[0m 2ms/step - loss: 0.2070 - val_loss: 0.2031\n",
            "Epoch 10/50\n",
            "\u001b[1m326/326\u001b[0m \u001b[32m━━━━━━━━━━━━━━━━━━━━\u001b[0m\u001b[37m\u001b[0m \u001b[1m1s\u001b[0m 2ms/step - loss: 0.2029 - val_loss: 0.2032\n",
            "Epoch 11/50\n",
            "\u001b[1m326/326\u001b[0m \u001b[32m━━━━━━━━━━━━━━━━━━━━\u001b[0m\u001b[37m\u001b[0m \u001b[1m1s\u001b[0m 2ms/step - loss: 0.2033 - val_loss: 0.2018\n",
            "Epoch 12/50\n",
            "\u001b[1m326/326\u001b[0m \u001b[32m━━━━━━━━━━━━━━━━━━━━\u001b[0m\u001b[37m\u001b[0m \u001b[1m1s\u001b[0m 2ms/step - loss: 0.2019 - val_loss: 0.2076\n",
            "Epoch 13/50\n",
            "\u001b[1m326/326\u001b[0m \u001b[32m━━━━━━━━━━━━━━━━━━━━\u001b[0m\u001b[37m\u001b[0m \u001b[1m1s\u001b[0m 2ms/step - loss: 0.2043 - val_loss: 0.2054\n",
            "Epoch 14/50\n",
            "\u001b[1m326/326\u001b[0m \u001b[32m━━━━━━━━━━━━━━━━━━━━\u001b[0m\u001b[37m\u001b[0m \u001b[1m1s\u001b[0m 2ms/step - loss: 0.2030 - val_loss: 0.2023\n",
            "Epoch 15/50\n",
            "\u001b[1m326/326\u001b[0m \u001b[32m━━━━━━━━━━━━━━━━━━━━\u001b[0m\u001b[37m\u001b[0m \u001b[1m1s\u001b[0m 2ms/step - loss: 0.2029 - val_loss: 0.2009\n",
            "Epoch 16/50\n",
            "\u001b[1m326/326\u001b[0m \u001b[32m━━━━━━━━━━━━━━━━━━━━\u001b[0m\u001b[37m\u001b[0m \u001b[1m1s\u001b[0m 2ms/step - loss: 0.2016 - val_loss: 0.2084\n",
            "Epoch 17/50\n",
            "\u001b[1m326/326\u001b[0m \u001b[32m━━━━━━━━━━━━━━━━━━━━\u001b[0m\u001b[37m\u001b[0m \u001b[1m1s\u001b[0m 2ms/step - loss: 0.2026 - val_loss: 0.1996\n",
            "Epoch 18/50\n",
            "\u001b[1m326/326\u001b[0m \u001b[32m━━━━━━━━━━━━━━━━━━━━\u001b[0m\u001b[37m\u001b[0m \u001b[1m1s\u001b[0m 2ms/step - loss: 0.1989 - val_loss: 0.2063\n",
            "Epoch 19/50\n",
            "\u001b[1m326/326\u001b[0m \u001b[32m━━━━━━━━━━━━━━━━━━━━\u001b[0m\u001b[37m\u001b[0m \u001b[1m1s\u001b[0m 2ms/step - loss: 0.2018 - val_loss: 0.2041\n",
            "Epoch 20/50\n",
            "\u001b[1m326/326\u001b[0m \u001b[32m━━━━━━━━━━━━━━━━━━━━\u001b[0m\u001b[37m\u001b[0m \u001b[1m1s\u001b[0m 2ms/step - loss: 0.1994 - val_loss: 0.1976\n",
            "Epoch 21/50\n",
            "\u001b[1m326/326\u001b[0m \u001b[32m━━━━━━━━━━━━━━━━━━━━\u001b[0m\u001b[37m\u001b[0m \u001b[1m1s\u001b[0m 2ms/step - loss: 0.1980 - val_loss: 0.1964\n",
            "Epoch 22/50\n",
            "\u001b[1m326/326\u001b[0m \u001b[32m━━━━━━━━━━━━━━━━━━━━\u001b[0m\u001b[37m\u001b[0m \u001b[1m1s\u001b[0m 2ms/step - loss: 0.1966 - val_loss: 0.1947\n",
            "Epoch 23/50\n",
            "\u001b[1m326/326\u001b[0m \u001b[32m━━━━━━━━━━━━━━━━━━━━\u001b[0m\u001b[37m\u001b[0m \u001b[1m1s\u001b[0m 2ms/step - loss: 0.1958 - val_loss: 0.1906\n",
            "Epoch 24/50\n",
            "\u001b[1m326/326\u001b[0m \u001b[32m━━━━━━━━━━━━━━━━━━━━\u001b[0m\u001b[37m\u001b[0m \u001b[1m1s\u001b[0m 2ms/step - loss: 0.1894 - val_loss: 0.1845\n",
            "Epoch 25/50\n",
            "\u001b[1m326/326\u001b[0m \u001b[32m━━━━━━━━━━━━━━━━━━━━\u001b[0m\u001b[37m\u001b[0m \u001b[1m1s\u001b[0m 2ms/step - loss: 0.1845 - val_loss: 0.1788\n",
            "Epoch 26/50\n",
            "\u001b[1m326/326\u001b[0m \u001b[32m━━━━━━━━━━━━━━━━━━━━\u001b[0m\u001b[37m\u001b[0m \u001b[1m1s\u001b[0m 2ms/step - loss: 0.1799 - val_loss: 0.1734\n",
            "Epoch 27/50\n",
            "\u001b[1m326/326\u001b[0m \u001b[32m━━━━━━━━━━━━━━━━━━━━\u001b[0m\u001b[37m\u001b[0m \u001b[1m1s\u001b[0m 2ms/step - loss: 0.1743 - val_loss: 0.1718\n",
            "Epoch 28/50\n",
            "\u001b[1m326/326\u001b[0m \u001b[32m━━━━━━━━━━━━━━━━━━━━\u001b[0m\u001b[37m\u001b[0m \u001b[1m1s\u001b[0m 2ms/step - loss: 0.1721 - val_loss: 0.1729\n",
            "Epoch 29/50\n",
            "\u001b[1m326/326\u001b[0m \u001b[32m━━━━━━━━━━━━━━━━━━━━\u001b[0m\u001b[37m\u001b[0m \u001b[1m1s\u001b[0m 2ms/step - loss: 0.1677 - val_loss: 0.1683\n",
            "Epoch 30/50\n",
            "\u001b[1m326/326\u001b[0m \u001b[32m━━━━━━━━━━━━━━━━━━━━\u001b[0m\u001b[37m\u001b[0m \u001b[1m1s\u001b[0m 2ms/step - loss: 0.1642 - val_loss: 0.1580\n",
            "Epoch 31/50\n",
            "\u001b[1m326/326\u001b[0m \u001b[32m━━━━━━━━━━━━━━━━━━━━\u001b[0m\u001b[37m\u001b[0m \u001b[1m1s\u001b[0m 2ms/step - loss: 0.1604 - val_loss: 0.1623\n",
            "Epoch 32/50\n",
            "\u001b[1m326/326\u001b[0m \u001b[32m━━━━━━━━━━━━━━━━━━━━\u001b[0m\u001b[37m\u001b[0m \u001b[1m1s\u001b[0m 2ms/step - loss: 0.1601 - val_loss: 0.1633\n",
            "Epoch 33/50\n",
            "\u001b[1m326/326\u001b[0m \u001b[32m━━━━━━━━━━━━━━━━━━━━\u001b[0m\u001b[37m\u001b[0m \u001b[1m1s\u001b[0m 2ms/step - loss: 0.1584 - val_loss: 0.1620\n",
            "Epoch 34/50\n",
            "\u001b[1m326/326\u001b[0m \u001b[32m━━━━━━━━━━━━━━━━━━━━\u001b[0m\u001b[37m\u001b[0m \u001b[1m1s\u001b[0m 2ms/step - loss: 0.1569 - val_loss: 0.1561\n",
            "Epoch 35/50\n",
            "\u001b[1m326/326\u001b[0m \u001b[32m━━━━━━━━━━━━━━━━━━━━\u001b[0m\u001b[37m\u001b[0m \u001b[1m1s\u001b[0m 2ms/step - loss: 0.1563 - val_loss: 0.1556\n",
            "Epoch 36/50\n",
            "\u001b[1m326/326\u001b[0m \u001b[32m━━━━━━━━━━━━━━━━━━━━\u001b[0m\u001b[37m\u001b[0m \u001b[1m1s\u001b[0m 2ms/step - loss: 0.1583 - val_loss: 0.1601\n",
            "Epoch 37/50\n",
            "\u001b[1m326/326\u001b[0m \u001b[32m━━━━━━━━━━━━━━━━━━━━\u001b[0m\u001b[37m\u001b[0m \u001b[1m1s\u001b[0m 2ms/step - loss: 0.1570 - val_loss: 0.1558\n",
            "Epoch 38/50\n",
            "\u001b[1m326/326\u001b[0m \u001b[32m━━━━━━━━━━━━━━━━━━━━\u001b[0m\u001b[37m\u001b[0m \u001b[1m1s\u001b[0m 2ms/step - loss: 0.1558 - val_loss: 0.1546\n",
            "Epoch 39/50\n",
            "\u001b[1m326/326\u001b[0m \u001b[32m━━━━━━━━━━━━━━━━━━━━\u001b[0m\u001b[37m\u001b[0m \u001b[1m1s\u001b[0m 3ms/step - loss: 0.1573 - val_loss: 0.1527\n",
            "Epoch 40/50\n",
            "\u001b[1m326/326\u001b[0m \u001b[32m━━━━━━━━━━━━━━━━━━━━\u001b[0m\u001b[37m\u001b[0m \u001b[1m1s\u001b[0m 3ms/step - loss: 0.1551 - val_loss: 0.1532\n",
            "Epoch 41/50\n",
            "\u001b[1m326/326\u001b[0m \u001b[32m━━━━━━━━━━━━━━━━━━━━\u001b[0m\u001b[37m\u001b[0m \u001b[1m1s\u001b[0m 3ms/step - loss: 0.1540 - val_loss: 0.1545\n",
            "Epoch 42/50\n",
            "\u001b[1m326/326\u001b[0m \u001b[32m━━━━━━━━━━━━━━━━━━━━\u001b[0m\u001b[37m\u001b[0m \u001b[1m1s\u001b[0m 2ms/step - loss: 0.1551 - val_loss: 0.1524\n",
            "Epoch 43/50\n",
            "\u001b[1m326/326\u001b[0m \u001b[32m━━━━━━━━━━━━━━━━━━━━\u001b[0m\u001b[37m\u001b[0m \u001b[1m1s\u001b[0m 2ms/step - loss: 0.1527 - val_loss: 0.1544\n",
            "Epoch 44/50\n",
            "\u001b[1m326/326\u001b[0m \u001b[32m━━━━━━━━━━━━━━━━━━━━\u001b[0m\u001b[37m\u001b[0m \u001b[1m1s\u001b[0m 2ms/step - loss: 0.1541 - val_loss: 0.1528\n",
            "Epoch 45/50\n",
            "\u001b[1m326/326\u001b[0m \u001b[32m━━━━━━━━━━━━━━━━━━━━\u001b[0m\u001b[37m\u001b[0m \u001b[1m1s\u001b[0m 2ms/step - loss: 0.1548 - val_loss: 0.1538\n",
            "Epoch 46/50\n",
            "\u001b[1m326/326\u001b[0m \u001b[32m━━━━━━━━━━━━━━━━━━━━\u001b[0m\u001b[37m\u001b[0m \u001b[1m1s\u001b[0m 2ms/step - loss: 0.1537 - val_loss: 0.1569\n",
            "Epoch 47/50\n",
            "\u001b[1m326/326\u001b[0m \u001b[32m━━━━━━━━━━━━━━━━━━━━\u001b[0m\u001b[37m\u001b[0m \u001b[1m1s\u001b[0m 2ms/step - loss: 0.1542 - val_loss: 0.1532\n",
            "Epoch 48/50\n",
            "\u001b[1m326/326\u001b[0m \u001b[32m━━━━━━━━━━━━━━━━━━━━\u001b[0m\u001b[37m\u001b[0m \u001b[1m1s\u001b[0m 2ms/step - loss: 0.1532 - val_loss: 0.1539\n",
            "Epoch 49/50\n",
            "\u001b[1m326/326\u001b[0m \u001b[32m━━━━━━━━━━━━━━━━━━━━\u001b[0m\u001b[37m\u001b[0m \u001b[1m1s\u001b[0m 2ms/step - loss: 0.1527 - val_loss: 0.1518\n",
            "Epoch 50/50\n",
            "\u001b[1m326/326\u001b[0m \u001b[32m━━━━━━━━━━━━━━━━━━━━\u001b[0m\u001b[37m\u001b[0m \u001b[1m1s\u001b[0m 2ms/step - loss: 0.1536 - val_loss: 0.1508\n"
          ]
        },
        {
          "data": {
            "text/plain": [
              "<keras.src.callbacks.history.History at 0x7b3b537b59f0>"
            ]
          },
          "execution_count": 16,
          "metadata": {},
          "output_type": "execute_result"
        }
      ],
      "source": [
        "# ------------- FITTING MODEL ------------\n",
        "autoencoder.fit(X_train, Y_train,\n",
        "                epochs=50,\n",
        "                batch_size=256,\n",
        "                shuffle=True,\n",
        "                validation_data=(X_test, Y_test))"
      ]
    },
    {
      "cell_type": "code",
      "execution_count": 17,
      "metadata": {
        "colab": {
          "base_uri": "https://localhost:8080/"
        },
        "id": "UjhBqLuo4YZp",
        "outputId": "b91787ee-1bb5-4376-f531-449bb52815e4"
      },
      "outputs": [
        {
          "name": "stdout",
          "output_type": "stream",
          "text": [
            "\u001b[1m2604/2604\u001b[0m \u001b[32m━━━━━━━━━━━━━━━━━━━━\u001b[0m\u001b[37m\u001b[0m \u001b[1m2s\u001b[0m 914us/step\n",
            "\u001b[1m651/651\u001b[0m \u001b[32m━━━━━━━━━━━━━━━━━━━━\u001b[0m\u001b[37m\u001b[0m \u001b[1m1s\u001b[0m 861us/step\n",
            "\u001b[1m3255/3255\u001b[0m \u001b[32m━━━━━━━━━━━━━━━━━━━━\u001b[0m\u001b[37m\u001b[0m \u001b[1m3s\u001b[0m 842us/step\n"
          ]
        }
      ],
      "source": [
        "# ------------- MODEL INFERENCE ------------\n",
        "encoder = Model(inputs=input_layer, outputs=decoded_4)\n",
        "X_train_encoded = encoder.predict(X_train)\n",
        "X_test_encoded = encoder.predict(X_test)\n",
        "X_encoded = encoder.predict(X)"
      ]
    },
    {
      "cell_type": "code",
      "execution_count": 24,
      "metadata": {},
      "outputs": [],
      "source": [
        "mae_autoencoder = mean_absolute_error(X_test, X_test_encoded)"
      ]
    },
    {
      "cell_type": "markdown",
      "metadata": {},
      "source": [
        "#### **Evaluating Each Method (PCA, Manifold and Autoencoder) based on the paper**\n",
        "\n",
        "\n",
        "Next, to compare B. manifold learning and C. autoencoders, We also compute the estimated treatment effect for each point (ITE), and the average absolute error of ITE for B. manifold learning and C. Autoencoder, over all the data points in the test set.\n",
        "- Mean Absolute error (ITE,autoencoder: 3.7127,\n",
        "- Mean absolute error (ITE, Manifold learning): 4.4540\n",
        "- Thus, autoencoder error is 20.27% lesser than manifold learning estimate for the ITE."
      ]
    },
    {
      "cell_type": "code",
      "execution_count": null,
      "metadata": {},
      "outputs": [],
      "source": []
    },
    {
      "cell_type": "code",
      "execution_count": null,
      "metadata": {},
      "outputs": [],
      "source": []
    },
    {
      "cell_type": "code",
      "execution_count": 25,
      "metadata": {},
      "outputs": [
        {
          "data": {
            "text/plain": [
              "47.729490214490625"
            ]
          },
          "execution_count": 25,
          "metadata": {},
          "output_type": "execute_result"
        }
      ],
      "source": [
        "mae_autoencoder"
      ]
    },
    {
      "cell_type": "markdown",
      "metadata": {},
      "source": [
        "---"
      ]
    },
    {
      "cell_type": "markdown",
      "metadata": {
        "id": "TYA1U_1Frm-e"
      },
      "source": [
        "### 2. **Deep Neural Networks (DNNs) for Propensity Score Matching**\n",
        "\n",
        "Propensity score matching is a popular technique, but traditionally uses logistic regression for propensity score estimation. The paper proposes using deep neural network classifiers instead, presenting a model called PropensityNet.\n",
        "\n",
        "The key points are:\n",
        "\n",
        "* DNNs can potentially capture complex non-linear relationships better than logistic regression\n",
        "* PropensityNet is trained to estimate propensity scores as a binary classification problem\n",
        "* Experiments show PropensityNet outperforms logistic regression for propensity score estimation\n",
        "* This leads to better matching of treated and untreated units for ITE calculation"
      ]
    },
    {
      "cell_type": "code",
      "execution_count": 44,
      "metadata": {
        "id": "LF3O2QTIrm-e"
      },
      "outputs": [],
      "source": [
        "# Regular Logistic Regression\n",
        "log_reg = LogisticRegression(max_iter = 10000).fit(X_train, Y_train)\n",
        "preds = log_reg.predict_proba(X_test)"
      ]
    },
    {
      "cell_type": "code",
      "execution_count": 45,
      "metadata": {
        "colab": {
          "base_uri": "https://localhost:8080/"
        },
        "id": "TfCxm6tarm-e",
        "outputId": "5226bc40-87fe-48f5-9cd5-2d8c771083cd"
      },
      "outputs": [],
      "source": [
        "# assuming a 0.5 threshold\n",
        "accuracy_score_logistic_regression = accuracy_score(Y_test, (preds[:, 1] > 0.5).astype('int'))"
      ]
    },
    {
      "cell_type": "code",
      "execution_count": 53,
      "metadata": {},
      "outputs": [],
      "source": [
        "# mae\n",
        "mae_logistic_regression = mean_absolute_error(Y_test, (preds[:, 1] > 0.5).astype('int'))"
      ]
    },
    {
      "cell_type": "code",
      "execution_count": 46,
      "metadata": {
        "colab": {
          "base_uri": "https://localhost:8080/"
        },
        "id": "d4PsLvPprm-e",
        "outputId": "2d4fa9a8-205e-4168-bfec-3131f9db8017"
      },
      "outputs": [
        {
          "data": {
            "text/plain": [
              "0.7379134860050891"
            ]
          },
          "execution_count": 46,
          "metadata": {},
          "output_type": "execute_result"
        }
      ],
      "source": [
        "accuracy_score_logistic_regression"
      ]
    },
    {
      "cell_type": "code",
      "execution_count": 54,
      "metadata": {},
      "outputs": [
        {
          "data": {
            "text/plain": [
              "0.26208651399491095"
            ]
          },
          "execution_count": 54,
          "metadata": {},
          "output_type": "execute_result"
        }
      ],
      "source": [
        "mae_logistic_regression"
      ]
    },
    {
      "cell_type": "markdown",
      "metadata": {
        "id": "EIC203Xcrm-e"
      },
      "source": [
        "---"
      ]
    },
    {
      "cell_type": "code",
      "execution_count": 32,
      "metadata": {},
      "outputs": [
        {
          "name": "stdout",
          "output_type": "stream",
          "text": [
            "Epoch 1/20\n"
          ]
        },
        {
          "name": "stderr",
          "output_type": "stream",
          "text": [
            "/home/codespace/.python/current/lib/python3.10/site-packages/keras/src/layers/core/dense.py:87: UserWarning: Do not pass an `input_shape`/`input_dim` argument to a layer. When using Sequential models, prefer using an `Input(shape)` object as the first layer in the model instead.\n",
            "  super().__init__(activity_regularizer=activity_regularizer, **kwargs)\n"
          ]
        },
        {
          "name": "stdout",
          "output_type": "stream",
          "text": [
            "\u001b[1m2604/2604\u001b[0m \u001b[32m━━━━━━━━━━━━━━━━━━━━\u001b[0m\u001b[37m\u001b[0m \u001b[1m5s\u001b[0m 1ms/step - accuracy: 0.7197 - loss: 0.6931\n",
            "Epoch 2/20\n",
            "\u001b[1m2604/2604\u001b[0m \u001b[32m━━━━━━━━━━━━━━━━━━━━\u001b[0m\u001b[37m\u001b[0m \u001b[1m3s\u001b[0m 1ms/step - accuracy: 0.7820 - loss: 0.5139\n",
            "Epoch 3/20\n",
            "\u001b[1m2604/2604\u001b[0m \u001b[32m━━━━━━━━━━━━━━━━━━━━\u001b[0m\u001b[37m\u001b[0m \u001b[1m3s\u001b[0m 1ms/step - accuracy: 0.7932 - loss: 0.4951\n",
            "Epoch 4/20\n",
            "\u001b[1m2604/2604\u001b[0m \u001b[32m━━━━━━━━━━━━━━━━━━━━\u001b[0m\u001b[37m\u001b[0m \u001b[1m5s\u001b[0m 1ms/step - accuracy: 0.7955 - loss: 0.4853\n",
            "Epoch 5/20\n",
            "\u001b[1m2604/2604\u001b[0m \u001b[32m━━━━━━━━━━━━━━━━━━━━\u001b[0m\u001b[37m\u001b[0m \u001b[1m5s\u001b[0m 1ms/step - accuracy: 0.7959 - loss: 0.4807\n",
            "Epoch 6/20\n",
            "\u001b[1m2604/2604\u001b[0m \u001b[32m━━━━━━━━━━━━━━━━━━━━\u001b[0m\u001b[37m\u001b[0m \u001b[1m5s\u001b[0m 1ms/step - accuracy: 0.7979 - loss: 0.4745\n",
            "Epoch 7/20\n",
            "\u001b[1m2604/2604\u001b[0m \u001b[32m━━━━━━━━━━━━━━━━━━━━\u001b[0m\u001b[37m\u001b[0m \u001b[1m5s\u001b[0m 1ms/step - accuracy: 0.7984 - loss: 0.4740\n",
            "Epoch 8/20\n",
            "\u001b[1m2604/2604\u001b[0m \u001b[32m━━━━━━━━━━━━━━━━━━━━\u001b[0m\u001b[37m\u001b[0m \u001b[1m3s\u001b[0m 1ms/step - accuracy: 0.7974 - loss: 0.4715\n",
            "Epoch 9/20\n",
            "\u001b[1m2604/2604\u001b[0m \u001b[32m━━━━━━━━━━━━━━━━━━━━\u001b[0m\u001b[37m\u001b[0m \u001b[1m5s\u001b[0m 1ms/step - accuracy: 0.7971 - loss: 0.4704\n",
            "Epoch 10/20\n",
            "\u001b[1m2604/2604\u001b[0m \u001b[32m━━━━━━━━━━━━━━━━━━━━\u001b[0m\u001b[37m\u001b[0m \u001b[1m4s\u001b[0m 1ms/step - accuracy: 0.7962 - loss: 0.4703\n",
            "Epoch 11/20\n",
            "\u001b[1m2604/2604\u001b[0m \u001b[32m━━━━━━━━━━━━━━━━━━━━\u001b[0m\u001b[37m\u001b[0m \u001b[1m3s\u001b[0m 1ms/step - accuracy: 0.8025 - loss: 0.4643\n",
            "Epoch 12/20\n",
            "\u001b[1m2604/2604\u001b[0m \u001b[32m━━━━━━━━━━━━━━━━━━━━\u001b[0m\u001b[37m\u001b[0m \u001b[1m3s\u001b[0m 1ms/step - accuracy: 0.8007 - loss: 0.4619\n",
            "Epoch 13/20\n",
            "\u001b[1m2604/2604\u001b[0m \u001b[32m━━━━━━━━━━━━━━━━━━━━\u001b[0m\u001b[37m\u001b[0m \u001b[1m4s\u001b[0m 1ms/step - accuracy: 0.7977 - loss: 0.4667\n",
            "Epoch 14/20\n",
            "\u001b[1m2604/2604\u001b[0m \u001b[32m━━━━━━━━━━━━━━━━━━━━\u001b[0m\u001b[37m\u001b[0m \u001b[1m3s\u001b[0m 1ms/step - accuracy: 0.7985 - loss: 0.4662\n",
            "Epoch 15/20\n",
            "\u001b[1m2604/2604\u001b[0m \u001b[32m━━━━━━━━━━━━━━━━━━━━\u001b[0m\u001b[37m\u001b[0m \u001b[1m5s\u001b[0m 1ms/step - accuracy: 0.7998 - loss: 0.4633\n",
            "Epoch 16/20\n",
            "\u001b[1m2604/2604\u001b[0m \u001b[32m━━━━━━━━━━━━━━━━━━━━\u001b[0m\u001b[37m\u001b[0m \u001b[1m5s\u001b[0m 1ms/step - accuracy: 0.8011 - loss: 0.4642\n",
            "Epoch 17/20\n",
            "\u001b[1m2604/2604\u001b[0m \u001b[32m━━━━━━━━━━━━━━━━━━━━\u001b[0m\u001b[37m\u001b[0m \u001b[1m5s\u001b[0m 1ms/step - accuracy: 0.8017 - loss: 0.4609\n",
            "Epoch 18/20\n",
            "\u001b[1m2604/2604\u001b[0m \u001b[32m━━━━━━━━━━━━━━━━━━━━\u001b[0m\u001b[37m\u001b[0m \u001b[1m4s\u001b[0m 1ms/step - accuracy: 0.8017 - loss: 0.4623\n",
            "Epoch 19/20\n",
            "\u001b[1m2604/2604\u001b[0m \u001b[32m━━━━━━━━━━━━━━━━━━━━\u001b[0m\u001b[37m\u001b[0m \u001b[1m3s\u001b[0m 1ms/step - accuracy: 0.7985 - loss: 0.4667\n",
            "Epoch 20/20\n",
            "\u001b[1m2604/2604\u001b[0m \u001b[32m━━━━━━━━━━━━━━━━━━━━\u001b[0m\u001b[37m\u001b[0m \u001b[1m5s\u001b[0m 1ms/step - accuracy: 0.8011 - loss: 0.4604\n"
          ]
        }
      ],
      "source": [
        "# -------------- PROPENSITY NET (TensorFlow) --------------------\n",
        "\n",
        "# Define the model using the Sequential API\n",
        "model = Sequential([\n",
        "    Dense(64, input_shape=(11,), activation='relu'),  # Input layer with 11 features and first hidden layer with 64 neurons\n",
        "    Dense(64, activation='relu'),  # Second hidden layer\n",
        "    Dense(64, activation='relu'),  # Third hidden layer\n",
        "    Dense(32, activation='relu'),  # Fourth hidden layer\n",
        "    Dense(16, activation='relu'),  # Fifth hidden layer\n",
        "    Dropout(0.3),  # Dropout layer\n",
        "    Dense(1, activation='sigmoid')  # Output layer\n",
        "])\n",
        "\n",
        "# Compile the model with binary cross-entropy loss and the Adam optimizer\n",
        "model.compile(optimizer=Adam(learning_rate=0.001),\n",
        "              loss='binary_crossentropy',\n",
        "              metrics=['accuracy'])  # Include accuracy if you want to monitor it during training\n",
        "\n",
        "\n",
        "# Train the model\n",
        "history = model.fit(X_train, Y_train, epochs=20)  # Specify the number of epochs according to your training needs"
      ]
    },
    {
      "cell_type": "code",
      "execution_count": 33,
      "metadata": {
        "colab": {
          "base_uri": "https://localhost:8080/"
        },
        "id": "GwNjgoS2rm-f",
        "outputId": "02851ad3-e9ec-4527-c7e1-e0224a00f6b8"
      },
      "outputs": [
        {
          "name": "stdout",
          "output_type": "stream",
          "text": [
            "\u001b[1m651/651\u001b[0m \u001b[32m━━━━━━━━━━━━━━━━━━━━\u001b[0m\u001b[37m\u001b[0m \u001b[1m1s\u001b[0m 844us/step\n"
          ]
        }
      ],
      "source": [
        "preds_dnn = model.predict(X_test)"
      ]
    },
    {
      "cell_type": "code",
      "execution_count": 36,
      "metadata": {},
      "outputs": [
        {
          "data": {
            "text/plain": [
              "array([[0.18189439],\n",
              "       [0.22652817],\n",
              "       [0.18503548],\n",
              "       ...,\n",
              "       [0.1632126 ],\n",
              "       [0.13018931],\n",
              "       [0.11091483]], dtype=float32)"
            ]
          },
          "execution_count": 36,
          "metadata": {},
          "output_type": "execute_result"
        }
      ],
      "source": [
        "preds_dnn"
      ]
    },
    {
      "cell_type": "code",
      "execution_count": 48,
      "metadata": {},
      "outputs": [],
      "source": [
        "accuracy_score_propensity_net = accuracy_score(Y_test, (np.squeeze(preds_dnn) > 0.5).astype('int'))"
      ]
    },
    {
      "cell_type": "code",
      "execution_count": 52,
      "metadata": {},
      "outputs": [],
      "source": [
        "mae_propensity_net = mean_absolute_error(Y_test, (np.squeeze(preds_dnn) > 0.5).astype('int'))"
      ]
    },
    {
      "cell_type": "markdown",
      "metadata": {
        "id": "HzhlGHYcrm-f"
      },
      "source": [
        "#### **Evaluating Each Method (LogisticRegression, PropensityNet) based on the paper**\n",
        "\n",
        "\n",
        "- Evaluate them based on accuracy"
      ]
    },
    {
      "cell_type": "code",
      "execution_count": 58,
      "metadata": {},
      "outputs": [
        {
          "name": "stdout",
          "output_type": "stream",
          "text": [
            "DNN for Propensity Score Matching\n"
          ]
        },
        {
          "data": {
            "text/html": [
              "<div>\n",
              "<style scoped>\n",
              "    .dataframe tbody tr th:only-of-type {\n",
              "        vertical-align: middle;\n",
              "    }\n",
              "\n",
              "    .dataframe tbody tr th {\n",
              "        vertical-align: top;\n",
              "    }\n",
              "\n",
              "    .dataframe thead th {\n",
              "        text-align: right;\n",
              "    }\n",
              "</style>\n",
              "<table border=\"1\" class=\"dataframe\">\n",
              "  <thead>\n",
              "    <tr style=\"text-align: right;\">\n",
              "      <th></th>\n",
              "      <th>Method</th>\n",
              "      <th>Accuracy Score</th>\n",
              "      <th>Mean Absolute Misclassification Error</th>\n",
              "    </tr>\n",
              "  </thead>\n",
              "  <tbody>\n",
              "    <tr>\n",
              "      <th>0</th>\n",
              "      <td>Propensity Net</td>\n",
              "      <td>0.803639</td>\n",
              "      <td>0.196361</td>\n",
              "    </tr>\n",
              "    <tr>\n",
              "      <th>1</th>\n",
              "      <td>Logistic Regression</td>\n",
              "      <td>0.737913</td>\n",
              "      <td>0.262087</td>\n",
              "    </tr>\n",
              "  </tbody>\n",
              "</table>\n",
              "</div>"
            ],
            "text/plain": [
              "                Method  Accuracy Score  Mean Absolute Misclassification Error\n",
              "0       Propensity Net        0.803639                               0.196361\n",
              "1  Logistic Regression        0.737913                               0.262087"
            ]
          },
          "execution_count": 58,
          "metadata": {},
          "output_type": "execute_result"
        }
      ],
      "source": [
        "print('DNN for Propensity Score Matching')\n",
        "pd.DataFrame({'Method': ['Propensity Net', 'Logistic Regression'],\n",
        "              'Accuracy Score': [accuracy_score_propensity_net, accuracy_score_logistic_regression ],\n",
        "              'Mean Absolute Misclassification Error': [mae_propensity_net, mae_logistic_regression]})\n"
      ]
    },
    {
      "cell_type": "code",
      "execution_count": 59,
      "metadata": {},
      "outputs": [
        {
          "data": {
            "text/plain": [
              "<Axes: >"
            ]
          },
          "execution_count": 59,
          "metadata": {},
          "output_type": "execute_result"
        },
        {
          "data": {
            "image/png": "[encoded data removed]",
            "text/plain": [
              "<Figure size 640x480 with 1 Axes>"
            ]
          },
          "metadata": {},
          "output_type": "display_data"
        }
      ],
      "source": [
        "pd.DataFrame({'Method': ['Propensity Net', 'Logistic Regression'],\n",
        "              'Accuracy Score': [accuracy_score_propensity_net, accuracy_score_logistic_regression ],\n",
        "              'Mean Absolute Misclassification Error': [mae_propensity_net, mae_logistic_regression]}).plot(kind='bar')"
      ]
    },
    {
      "cell_type": "code",
      "execution_count": 60,
      "metadata": {},
      "outputs": [
        {
          "data": {
            "text/html": [
              "<pre style=\"white-space:pre;overflow-x:auto;line-height:normal;font-family:Menlo,'DejaVu Sans Mono',consolas,'Courier New',monospace\"><span style=\"font-weight: bold\">Model: \"sequential_1\"</span>\n",
              "</pre>\n"
            ],
            "text/plain": [
              "\u001b[1mModel: \"sequential_1\"\u001b[0m\n"
            ]
          },
          "metadata": {},
          "output_type": "display_data"
        },
        {
          "data": {
            "text/html": [
              "<pre style=\"white-space:pre;overflow-x:auto;line-height:normal;font-family:Menlo,'DejaVu Sans Mono',consolas,'Courier New',monospace\">┏━━━━━━━━━━━━━━━━━━━━━━━━━━━━━━━━━┳━━━━━━━━━━━━━━━━━━━━━━━━┳━━━━━━━━━━━━━━━┓\n",
              "┃<span style=\"font-weight: bold\"> Layer (type)                    </span>┃<span style=\"font-weight: bold\"> Output Shape           </span>┃<span style=\"font-weight: bold\">       Param # </span>┃\n",
              "┡━━━━━━━━━━━━━━━━━━━━━━━━━━━━━━━━━╇━━━━━━━━━━━━━━━━━━━━━━━━╇━━━━━━━━━━━━━━━┩\n",
              "│ dense_14 (<span style=\"color: #0087ff; text-decoration-color: #0087ff\">Dense</span>)                │ (<span style=\"color: #00d7ff; text-decoration-color: #00d7ff\">None</span>, <span style=\"color: #00af00; text-decoration-color: #00af00\">64</span>)             │           <span style=\"color: #00af00; text-decoration-color: #00af00\">768</span> │\n",
              "├─────────────────────────────────┼────────────────────────┼───────────────┤\n",
              "│ dense_15 (<span style=\"color: #0087ff; text-decoration-color: #0087ff\">Dense</span>)                │ (<span style=\"color: #00d7ff; text-decoration-color: #00d7ff\">None</span>, <span style=\"color: #00af00; text-decoration-color: #00af00\">64</span>)             │         <span style=\"color: #00af00; text-decoration-color: #00af00\">4,160</span> │\n",
              "├─────────────────────────────────┼────────────────────────┼───────────────┤\n",
              "│ dense_16 (<span style=\"color: #0087ff; text-decoration-color: #0087ff\">Dense</span>)                │ (<span style=\"color: #00d7ff; text-decoration-color: #00d7ff\">None</span>, <span style=\"color: #00af00; text-decoration-color: #00af00\">64</span>)             │         <span style=\"color: #00af00; text-decoration-color: #00af00\">4,160</span> │\n",
              "├─────────────────────────────────┼────────────────────────┼───────────────┤\n",
              "│ dense_17 (<span style=\"color: #0087ff; text-decoration-color: #0087ff\">Dense</span>)                │ (<span style=\"color: #00d7ff; text-decoration-color: #00d7ff\">None</span>, <span style=\"color: #00af00; text-decoration-color: #00af00\">32</span>)             │         <span style=\"color: #00af00; text-decoration-color: #00af00\">2,080</span> │\n",
              "├─────────────────────────────────┼────────────────────────┼───────────────┤\n",
              "│ dense_18 (<span style=\"color: #0087ff; text-decoration-color: #0087ff\">Dense</span>)                │ (<span style=\"color: #00d7ff; text-decoration-color: #00d7ff\">None</span>, <span style=\"color: #00af00; text-decoration-color: #00af00\">16</span>)             │           <span style=\"color: #00af00; text-decoration-color: #00af00\">528</span> │\n",
              "├─────────────────────────────────┼────────────────────────┼───────────────┤\n",
              "│ dropout_1 (<span style=\"color: #0087ff; text-decoration-color: #0087ff\">Dropout</span>)             │ (<span style=\"color: #00d7ff; text-decoration-color: #00d7ff\">None</span>, <span style=\"color: #00af00; text-decoration-color: #00af00\">16</span>)             │             <span style=\"color: #00af00; text-decoration-color: #00af00\">0</span> │\n",
              "├─────────────────────────────────┼────────────────────────┼───────────────┤\n",
              "│ dense_19 (<span style=\"color: #0087ff; text-decoration-color: #0087ff\">Dense</span>)                │ (<span style=\"color: #00d7ff; text-decoration-color: #00d7ff\">None</span>, <span style=\"color: #00af00; text-decoration-color: #00af00\">1</span>)              │            <span style=\"color: #00af00; text-decoration-color: #00af00\">17</span> │\n",
              "└─────────────────────────────────┴────────────────────────┴───────────────┘\n",
              "</pre>\n"
            ],
            "text/plain": [
              "┏━━━━━━━━━━━━━━━━━━━━━━━━━━━━━━━━━┳━━━━━━━━━━━━━━━━━━━━━━━━┳━━━━━━━━━━━━━━━┓\n",
              "┃\u001b[1m \u001b[0m\u001b[1mLayer (type)                   \u001b[0m\u001b[1m \u001b[0m┃\u001b[1m \u001b[0m\u001b[1mOutput Shape          \u001b[0m\u001b[1m \u001b[0m┃\u001b[1m \u001b[0m\u001b[1m      Param #\u001b[0m\u001b[1m \u001b[0m┃\n",
              "┡━━━━━━━━━━━━━━━━━━━━━━━━━━━━━━━━━╇━━━━━━━━━━━━━━━━━━━━━━━━╇━━━━━━━━━━━━━━━┩\n",
              "│ dense_14 (\u001b[38;5;33mDense\u001b[0m)                │ (\u001b[38;5;45mNone\u001b[0m, \u001b[38;5;34m64\u001b[0m)             │           \u001b[38;5;34m768\u001b[0m │\n",
              "├─────────────────────────────────┼────────────────────────┼───────────────┤\n",
              "│ dense_15 (\u001b[38;5;33mDense\u001b[0m)                │ (\u001b[38;5;45mNone\u001b[0m, \u001b[38;5;34m64\u001b[0m)             │         \u001b[38;5;34m4,160\u001b[0m │\n",
              "├─────────────────────────────────┼────────────────────────┼───────────────┤\n",
              "│ dense_16 (\u001b[38;5;33mDense\u001b[0m)                │ (\u001b[38;5;45mNone\u001b[0m, \u001b[38;5;34m64\u001b[0m)             │         \u001b[38;5;34m4,160\u001b[0m │\n",
              "├─────────────────────────────────┼────────────────────────┼───────────────┤\n",
              "│ dense_17 (\u001b[38;5;33mDense\u001b[0m)                │ (\u001b[38;5;45mNone\u001b[0m, \u001b[38;5;34m32\u001b[0m)             │         \u001b[38;5;34m2,080\u001b[0m │\n",
              "├─────────────────────────────────┼────────────────────────┼───────────────┤\n",
              "│ dense_18 (\u001b[38;5;33mDense\u001b[0m)                │ (\u001b[38;5;45mNone\u001b[0m, \u001b[38;5;34m16\u001b[0m)             │           \u001b[38;5;34m528\u001b[0m │\n",
              "├─────────────────────────────────┼────────────────────────┼───────────────┤\n",
              "│ dropout_1 (\u001b[38;5;33mDropout\u001b[0m)             │ (\u001b[38;5;45mNone\u001b[0m, \u001b[38;5;34m16\u001b[0m)             │             \u001b[38;5;34m0\u001b[0m │\n",
              "├─────────────────────────────────┼────────────────────────┼───────────────┤\n",
              "│ dense_19 (\u001b[38;5;33mDense\u001b[0m)                │ (\u001b[38;5;45mNone\u001b[0m, \u001b[38;5;34m1\u001b[0m)              │            \u001b[38;5;34m17\u001b[0m │\n",
              "└─────────────────────────────────┴────────────────────────┴───────────────┘\n"
            ]
          },
          "metadata": {},
          "output_type": "display_data"
        },
        {
          "data": {
            "text/html": [
              "<pre style=\"white-space:pre;overflow-x:auto;line-height:normal;font-family:Menlo,'DejaVu Sans Mono',consolas,'Courier New',monospace\"><span style=\"font-weight: bold\"> Total params: </span><span style=\"color: #00af00; text-decoration-color: #00af00\">35,141</span> (137.27 KB)\n",
              "</pre>\n"
            ],
            "text/plain": [
              "\u001b[1m Total params: \u001b[0m\u001b[38;5;34m35,141\u001b[0m (137.27 KB)\n"
            ]
          },
          "metadata": {},
          "output_type": "display_data"
        },
        {
          "data": {
            "text/html": [
              "<pre style=\"white-space:pre;overflow-x:auto;line-height:normal;font-family:Menlo,'DejaVu Sans Mono',consolas,'Courier New',monospace\"><span style=\"font-weight: bold\"> Trainable params: </span><span style=\"color: #00af00; text-decoration-color: #00af00\">11,713</span> (45.75 KB)\n",
              "</pre>\n"
            ],
            "text/plain": [
              "\u001b[1m Trainable params: \u001b[0m\u001b[38;5;34m11,713\u001b[0m (45.75 KB)\n"
            ]
          },
          "metadata": {},
          "output_type": "display_data"
        },
        {
          "data": {
            "text/html": [
              "<pre style=\"white-space:pre;overflow-x:auto;line-height:normal;font-family:Menlo,'DejaVu Sans Mono',consolas,'Courier New',monospace\"><span style=\"font-weight: bold\"> Non-trainable params: </span><span style=\"color: #00af00; text-decoration-color: #00af00\">0</span> (0.00 B)\n",
              "</pre>\n"
            ],
            "text/plain": [
              "\u001b[1m Non-trainable params: \u001b[0m\u001b[38;5;34m0\u001b[0m (0.00 B)\n"
            ]
          },
          "metadata": {},
          "output_type": "display_data"
        },
        {
          "data": {
            "text/html": [
              "<pre style=\"white-space:pre;overflow-x:auto;line-height:normal;font-family:Menlo,'DejaVu Sans Mono',consolas,'Courier New',monospace\"><span style=\"font-weight: bold\"> Optimizer params: </span><span style=\"color: #00af00; text-decoration-color: #00af00\">23,428</span> (91.52 KB)\n",
              "</pre>\n"
            ],
            "text/plain": [
              "\u001b[1m Optimizer params: \u001b[0m\u001b[38;5;34m23,428\u001b[0m (91.52 KB)\n"
            ]
          },
          "metadata": {},
          "output_type": "display_data"
        }
      ],
      "source": [
        "model.summary()"
      ]
    },
    {
      "cell_type": "markdown",
      "metadata": {},
      "source": [
        "-----"
      ]
    },
    {
      "cell_type": "markdown",
      "metadata": {},
      "source": [
        "-------"
      ]
    },
    {
      "cell_type": "markdown",
      "metadata": {},
      "source": [
        "Other code (ignore)"
      ]
    },
    {
      "cell_type": "code",
      "execution_count": null,
      "metadata": {},
      "outputs": [],
      "source": [
        "# model = nn.Sequential(\n",
        "#                 nn.Linear(in_features=11, out_features=64),\n",
        "#                 nn.ReLU(),\n",
        "#                 nn.Linear(in_features=64, out_features=64),\n",
        "#                 nn.ReLU(),\n",
        "#                 nn.Linear(in_features=64, out_features=64),\n",
        "#                 nn.ReLU(),\n",
        "#                 nn.Linear(in_features=64, out_features=32),\n",
        "#                 nn.ReLU(),\n",
        "#                 nn.Linear(in_features=32, out_features=16),\n",
        "#                 nn.ReLU(),\n",
        "#                 nn.Dropout(p=0.3),\n",
        "#                 nn.Linear(in_features=16, out_features=1),\n",
        "#                 nn.Sigmoid()\n",
        "#             )\n",
        "\n",
        "\n",
        "# # -------------- LOSS FUNCTION (Binaty Cross Entropy) & OPTIMIZER (Adam) --------------------\n",
        "# criterion = nn.BCELoss()\n",
        "# optimizer = torch.optim.Adam(model.parameters(), lr=0.001)\n",
        "\n",
        "\n",
        "# # ------- Tensors & Dataloaders --------------\n",
        "# # converting to pytorch tensors\n",
        "# X_tensor = torch.tensor(X.to_numpy(), dtype=torch.float32)\n",
        "# y_tensor = torch.tensor(y.to_numpy(), dtype=torch.float32)\n",
        "\n",
        "# # Dataloaders\n",
        "# train_dataset = TensorDataset(X_tensor, y_tensor)\n",
        "# train_dataloader = DataLoader(train_dataset, batch_size=220, shuffle=True)\n",
        "\n",
        "\n",
        "\n",
        "# total_params = sum(p.numel() for p in model.parameters())\n",
        "# print(\"Total number of parameters:\", total_params)\n",
        "\n",
        "\n",
        "\n",
        "# -------------- TRAINING LOOP --------------------\n",
        "\n",
        "# EPOCHS = 20\n",
        "# for epoch in range(EPOCHS):\n",
        "#     epoch_loss = 0\n",
        "#     for inputs, label in train_dataloader:\n",
        "\n",
        "#         # ---- FORWARD PASS -----\n",
        "#         pred = model(inputs)\n",
        "#         pred = pred.squeeze(1)\n",
        "#         loss = criterion(pred, label)\n",
        "\n",
        "#         # ----- BACKPROPAGATION -----\n",
        "#         loss.backward() # calculating gradients\n",
        "#         optimizer.step() # multiplies learning_rate * gradient, which is your step size or by how much you update the weights\n",
        "\n",
        "#         # loss\n",
        "#         epoch_loss += loss.item()\n",
        "#     epoch_loss /= len(train_dataloader)\n",
        "#     print(\"epoch: {0} training loss {1}\".format(epoch, epoch_loss))\n",
        "\n",
        "\n",
        "\n",
        "# -------------- EVALUATING MODEL --------------------\n",
        "# # Make predictions\n",
        "# model.eval()  # Set the model to evaluation mode\n",
        "# predictions = []\n",
        "# with torch.no_grad():  # Disable gradient tracking during inference\n",
        "#     for batch in train_dataloader:\n",
        "#         inputs, labels = batch\n",
        "#         pred = model(inputs)\n",
        "#         pred = pred.squeeze(1)  # If your model outputs a single value per sample\n",
        "#         predictions.append(pred)\n",
        "\n",
        "\n",
        "# # Concatenate predictions into a single tensor\n",
        "# predictions_tensor = torch.cat(predictions)\n",
        "\n",
        "# # Convert predictions to numpy array\n",
        "# predictions_array = predictions_tensor.numpy()"
      ]
    }
  ],
  "metadata": {
    "colab": {
      "provenance": []
    },
    "kernelspec": {
      "display_name": "usc",
      "language": "python",
      "name": "python3"
    },
    "language_info": {
      "codemirror_mode": {
        "name": "ipython",
        "version": 3
      },
      "file_extension": ".py",
      "mimetype": "text/x-python",
      "name": "python",
      "nbconvert_exporter": "python",
      "pygments_lexer": "ipython3",
      "version": "3.10.13"
    }
  },
  "nbformat": 4,
  "nbformat_minor": 0
}
