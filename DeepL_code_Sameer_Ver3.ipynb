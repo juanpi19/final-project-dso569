{
  "cells": [
    {
      "cell_type": "markdown",
      "metadata": {
        "id": "1mdBU5Hgrm-a"
      },
      "source": [
        "## **Deep Learning for Causal Inference by Vikas Ramachandra**\n",
        "\n",
        "Applying the concepts from the \"Deep Learning for Causal Inference\" paper authored by Vikas Ramachandra to the data_for_churn_analysis dataset\n",
        "\n",
        "link to the paper: <a>https://arxiv.org/abs/1803.00149</a>"
      ]
    },
    {
      "cell_type": "code",
      "execution_count": 9,
      "metadata": {
        "id": "zvpIJP04rm-c"
      },
      "outputs": [],
      "source": [
        "# DA\n",
        "import pandas as pd\n",
        "import numpy as np\n",
        "import matplotlib.pyplot as plt\n",
        "\n",
        "# ML\n",
        "from sklearn.preprocessing import LabelEncoder\n",
        "from sklearn.model_selection import train_test_split\n",
        "from sklearn.linear_model import LogisticRegression\n",
        "from sklearn.preprocessing import StandardScaler\n",
        "from sklearn.decomposition import PCA\n",
        "from sklearn.manifold import TSNE\n",
        "from sklearn.neighbors import NearestNeighbors\n",
        "\n",
        "\n",
        "import tensorflow as tf\n",
        "from tensorflow.keras.layers import Input, Dense\n",
        "from tensorflow.keras.models import Model\n",
        "from tensorflow.keras.optimizers import Adam\n",
        "from tensorflow.keras.models import Sequential\n",
        "from tensorflow.keras.layers import Dropout\n",
        "\n",
        "\n",
        "# Metrics\n",
        "from sklearn.metrics import accuracy_score, mean_absolute_percentage_error, mean_absolute_error"
      ]
    },
    {
      "cell_type": "code",
      "execution_count": 2,
      "metadata": {
        "id": "8SYz7N7arm-c"
      },
      "outputs": [],
      "source": [
        "# Loading dataset\n",
        "df = pd.read_csv('data_for_churn_analysis.csv')"
      ]
    },
    {
      "cell_type": "code",
      "execution_count": 3,
      "metadata": {
        "colab": {
          "base_uri": "https://localhost:8080/"
        },
        "id": "OQKDeQ46rm-c",
        "outputId": "0aac95ac-c69f-446d-e441-80c5a50d5c6c"
      },
      "outputs": [
        {
          "output_type": "execute_result",
          "data": {
            "text/plain": [
              "(104143, 18)"
            ]
          },
          "metadata": {},
          "execution_count": 3
        }
      ],
      "source": [
        "df.shape"
      ]
    },
    {
      "cell_type": "code",
      "execution_count": 4,
      "metadata": {
        "colab": {
          "base_uri": "https://localhost:8080/"
        },
        "id": "WX90IDW1rm-d",
        "outputId": "9c1ff16a-da96-4b91-f246-6ce4b6cd2943"
      },
      "outputs": [
        {
          "output_type": "stream",
          "name": "stdout",
          "text": [
            "<class 'pandas.core.frame.DataFrame'>\n",
            "RangeIndex: 104143 entries, 0 to 104142\n",
            "Data columns (total 18 columns):\n",
            " #   Column                                 Non-Null Count   Dtype  \n",
            "---  ------                                 --------------   -----  \n",
            " 0   device                                 104025 non-null  object \n",
            " 1   first_payment_amount                   104143 non-null  int64  \n",
            " 2   age                                    104001 non-null  float64\n",
            " 3   city                                   98301 non-null   object \n",
            " 4   number_of_cards                        103671 non-null  float64\n",
            " 5   payments_initiated                     103671 non-null  float64\n",
            " 6   payments_failed                        103671 non-null  float64\n",
            " 7   payments_completed                     103671 non-null  float64\n",
            " 8   payments_completed_amount_first_7days  103671 non-null  float64\n",
            " 9   reward_purchase_count_first_7days      80879 non-null   float64\n",
            " 10  coins_redeemed_first_7days             103671 non-null  float64\n",
            " 11  is_referral                            104143 non-null  bool   \n",
            " 12  visits_feature_1                       101497 non-null  float64\n",
            " 13  visits_feature_2                       101497 non-null  float64\n",
            " 14  given_permission_1                     104143 non-null  int64  \n",
            " 15  given_permission_2                     104143 non-null  int64  \n",
            " 16  user_id                                104143 non-null  int64  \n",
            " 17  is_churned                             104143 non-null  int64  \n",
            "dtypes: bool(1), float64(10), int64(5), object(2)\n",
            "memory usage: 13.6+ MB\n"
          ]
        }
      ],
      "source": [
        "df.info()"
      ]
    },
    {
      "cell_type": "code",
      "execution_count": 5,
      "metadata": {
        "colab": {
          "base_uri": "https://localhost:8080/"
        },
        "id": "OoV-zMYgrm-d",
        "outputId": "8164b828-f417-445e-e5e9-7167b950318e"
      },
      "outputs": [
        {
          "output_type": "stream",
          "name": "stdout",
          "text": [
            "df.isnull().sum().sum()=37490\n",
            "perc of dataset missing 0.3599857887712088\n"
          ]
        }
      ],
      "source": [
        "# null values?\n",
        "print(f\"{df.isnull().sum().sum()=}\")\n",
        "print(f\"perc of dataset missing {df.isnull().sum().sum()/df.shape[0]}\")"
      ]
    },
    {
      "cell_type": "code",
      "execution_count": 6,
      "metadata": {
        "colab": {
          "base_uri": "https://localhost:8080/"
        },
        "id": "FgvZy3Ujrm-d",
        "outputId": "bc93f963-e1a3-43ef-d6a4-80ba9ac3e1d7"
      },
      "outputs": [
        {
          "output_type": "execute_result",
          "data": {
            "text/plain": [
              "is_churned\n",
              "0    0.713192\n",
              "1    0.286808\n",
              "Name: proportion, dtype: float64"
            ]
          },
          "metadata": {},
          "execution_count": 6
        }
      ],
      "source": [
        "# proportion of people who have churned\n",
        "df['is_churned'].value_counts(normalize=True)"
      ]
    },
    {
      "cell_type": "markdown",
      "metadata": {
        "id": "2EqFfmVArm-d"
      },
      "source": [
        "### 1. **Impact of Referrals on Customer Acquisition and Retention**:\n",
        "   - Research Question: Do customers acquired through referrals (`is_referral`) exhibit different behaviors and retention rates compared to non-referred customers?\n",
        "   - Treatment: Customer acquisition through referrals\n",
        "   - Outcome: Customer behavior (e.g., `payments_initiated`, `payments_completed`, `visits_feature_1`, `visits_feature_2`) and churn (`is_churned`)\n",
        "   - Potential Confounders: `device`, `age`, `city`, `number_of_cards`, `payments_failed`, `payments_completed_amount_first_7days`, `reward_purchase_count_first_7days`, `coins_redeemed_first_7days`, `given_permission_1`, `given_permission_2`"
      ]
    },
    {
      "cell_type": "markdown",
      "metadata": {
        "id": "eEakGKKlrm-d"
      },
      "source": [
        "$$Y_i = f(T_i, X_i, \\epsilon_i)$$\n",
        "\n",
        "Where:\n",
        "\n",
        "- $Y_i$ represents the outcome variable `is_churned` for customer $i$\n",
        "- $T_i$ is the treatment variable `is_referral`, indicating whether customer $i$ was acquired through a referral\n",
        "- $X_i$ represents the vector of potential confounding variables for customer $i$, such as `device`, `age`, `city`, `number_of_cards`, `payments_failed`, `payments_completed_amount_first_7days`, `reward_purchase_count_first_7days`, `coins_redeemed_first_7days`, `given_permission_1`, `given_permission_2`\n",
        "- $\\epsilon_i$ is the error term, accounting for unobserved factors affecting the outcome\n",
        "- $f$ is an unknown function that maps the treatment, confounders, and error term to the outcome"
      ]
    },
    {
      "cell_type": "code",
      "execution_count": 7,
      "metadata": {
        "id": "Xvw_7xl1rm-d"
      },
      "outputs": [],
      "source": [
        "# -------------- DATA PREPROCESSING --------------------\n",
        "\n",
        "# Encoding using label encoding technique\n",
        "obj_cols = df.select_dtypes(include='object').columns # grabs object dtypes columns\n",
        "le = LabelEncoder() # creates LabelEncoder instance\n",
        "for col in obj_cols:\n",
        "    df[col] = le.fit_transform(df[col]) # encodes each column\n",
        "\n",
        "df['is_referral'] = np.where(df['is_referral'] == True, 1, 0)\n",
        "\n",
        "\n",
        "# -------------- IMPUTING MISSING VALUES --------------------\n",
        "missing_cols = df.columns[df.isna().any()].tolist()\n",
        "for col in missing_cols:\n",
        "    df[col] = df[col].fillna(df[col].mean())\n",
        "\n",
        "\n",
        "# -------------- DATA SPLIT --------------------\n",
        "\n",
        "confounders = [\n",
        "    'device',\n",
        "    'age',\n",
        "    'city',\n",
        "    'number_of_cards',\n",
        "    'payments_failed',\n",
        "    'payments_completed_amount_first_7days',\n",
        "    'reward_purchase_count_first_7days',\n",
        "    'coins_redeemed_first_7days',\n",
        "    'given_permission_1',\n",
        "    'given_permission_2',\n",
        "    'is_referral' # treatment\n",
        "]\n",
        "\n",
        "y = df['is_churned']\n",
        "X = df[confounders]\n",
        "\n",
        "scaler = StandardScaler()\n",
        "X_scaled = scaler.fit_transform(X)\n",
        "\n",
        "\n",
        "X_train, X_test = train_test_split(X, test_size=0.2, random_state=42)\n",
        "Y_train, Y_test = train_test_split(y, test_size=0.2, random_state=42)"
      ]
    },
    {
      "cell_type": "markdown",
      "source": [
        "**PCA**"
      ],
      "metadata": {
        "id": "ySyjdAEqaEVP"
      }
    },
    {
      "cell_type": "code",
      "source": [
        "# Standardize the features\n",
        "scaler = StandardScaler()\n",
        "X_scaled = scaler.fit_transform(X_train)\n",
        "X_test_scaled = scaler.transform(X_test)\n",
        "\n",
        "# Perform PCA for dimensionality reduction\n",
        "pca = PCA(n_components=2)  # Reduce to 2 dimensions for visualization\n",
        "X_pca = pca.fit_transform(X_scaled)\n",
        "X_test_pca = pca.transform(X_test_scaled)\n",
        "\n",
        "# Compute nearest neighbors in the reduced-dimensional space obtained from PCA\n",
        "nbrs_pca = NearestNeighbors(n_neighbors=1, algorithm='ball_tree').fit(X_pca)\n",
        "distances_pca, indices_pca = nbrs_pca.kneighbors(X_test_pca)\n",
        "\n",
        "# Compute treatment effect using nearest neighbors in PCA space\n",
        "treatment_effect_pca = np.abs(Y_test.values - Y_train.iloc[indices_pca.flatten()])\n",
        "\n",
        "mae_pca = mean_absolute_error(Y_test, treatment_effect_pca)\n",
        "print(f\"{mae_pca=}\")"
      ],
      "metadata": {
        "colab": {
          "base_uri": "https://localhost:8080/"
        },
        "id": "LDLvoInSaCTK",
        "outputId": "c906c78d-9a4e-4c69-8834-00573a3ea02d"
      },
      "execution_count": 10,
      "outputs": [
        {
          "output_type": "stream",
          "name": "stdout",
          "text": [
            "mae_pca=0.2838350376878391\n"
          ]
        }
      ]
    },
    {
      "cell_type": "code",
      "source": [],
      "metadata": {
        "id": "FcygJ-klb6Xi"
      },
      "execution_count": 17,
      "outputs": []
    },
    {
      "cell_type": "markdown",
      "metadata": {
        "id": "VaMEkZ6rrm-e"
      },
      "source": [
        "### 1. **Generalized Neighbor Matching using Autoencoders**\n",
        "\n",
        "The paper proposes using autoencoders, a type of deep neural network, for dimensionality reduction while preserving the local neighborhood structure of the data. This is useful for generalized neighbor matching to estimate individual treatment effects (ITEs).\n",
        "\n",
        "The key points are:\n",
        "\n",
        "* In high dimensions, traditional neighbor matching methods like k-nearest neighbors struggle\n",
        "* Autoencoders can learn a low-dimensional representation that captures the manifold structure\n",
        "* This low-dimensional encoding preserves local neighborhoods for accurate neighbor identification\n",
        "* Experiments show autoencoders outperform methods like manifold learning for ITE estimation"
      ]
    },
    {
      "cell_type": "markdown",
      "source": [
        "**AUTOENCODER**"
      ],
      "metadata": {
        "id": "7xPAD1W_axzv"
      }
    },
    {
      "cell_type": "code",
      "execution_count": 11,
      "metadata": {
        "id": "VastVKpxrm-e"
      },
      "outputs": [],
      "source": [
        "input_dim = X.shape[1]  # Features count\n",
        "\n",
        "# Input layer\n",
        "input_layer = Input(shape=(input_dim, ))\n",
        "\n",
        "# Encoder: Reduce dimensionality\n",
        "encoded_1 = Dense(64, activation='relu')(input_layer)\n",
        "encoded_2 = Dense(32, activation='relu')(encoded_1)\n",
        "encoded_3 = Dense(16, activation='relu')(encoded_2)\n",
        "encoded_4 = Dense(8, activation='relu')(encoded_3)\n",
        "\n",
        "# Decoder: Reconstruct the input\n",
        "decoded_1 = Dense(16, activation='relu')(encoded_4)\n",
        "decoded_2 = Dense(32, activation='relu')(decoded_1)\n",
        "decoded_3 = Dense(64, activation='relu')(decoded_2)\n",
        "decoded_4 = Dense(input_dim, activation='linear')(decoded_3)  # Final output layer\n",
        "\n",
        "# Autoencoder model\n",
        "autoencoder = Model(inputs=input_layer, outputs=decoded_4)  # Ensure to output from the last decoding layer\n",
        "autoencoder.compile(optimizer='adam', loss='mean_squared_error')"
      ]
    },
    {
      "cell_type": "code",
      "execution_count": 12,
      "metadata": {
        "colab": {
          "base_uri": "https://localhost:8080/"
        },
        "id": "ey_7YBXBrm-e",
        "outputId": "ecd638d7-8ec5-4f14-b323-2db7a0248a48"
      },
      "outputs": [
        {
          "output_type": "stream",
          "name": "stdout",
          "text": [
            "Epoch 1/50\n",
            "326/326 [==============================] - 3s 5ms/step - loss: 0.4361 - val_loss: 18916.2637\n",
            "Epoch 2/50\n",
            "326/326 [==============================] - 1s 3ms/step - loss: 0.1831 - val_loss: 18917.1934\n",
            "Epoch 3/50\n",
            "326/326 [==============================] - 1s 3ms/step - loss: 0.1741 - val_loss: 18917.7324\n",
            "Epoch 4/50\n",
            "326/326 [==============================] - 1s 3ms/step - loss: 0.1663 - val_loss: 18917.2031\n",
            "Epoch 5/50\n",
            "326/326 [==============================] - 1s 3ms/step - loss: 0.1598 - val_loss: 18918.8066\n",
            "Epoch 6/50\n",
            "326/326 [==============================] - 2s 5ms/step - loss: 0.1573 - val_loss: 18917.3750\n",
            "Epoch 7/50\n",
            "326/326 [==============================] - 2s 5ms/step - loss: 0.1557 - val_loss: 18918.0078\n",
            "Epoch 8/50\n",
            "326/326 [==============================] - 1s 3ms/step - loss: 0.1557 - val_loss: 18919.9355\n",
            "Epoch 9/50\n",
            "326/326 [==============================] - 1s 3ms/step - loss: 0.1540 - val_loss: 18916.8633\n",
            "Epoch 10/50\n",
            "326/326 [==============================] - 1s 3ms/step - loss: 0.1549 - val_loss: 18904.8984\n",
            "Epoch 11/50\n",
            "326/326 [==============================] - 1s 3ms/step - loss: 0.1538 - val_loss: 18914.8320\n",
            "Epoch 12/50\n",
            "326/326 [==============================] - 1s 3ms/step - loss: 0.1530 - val_loss: 18917.7422\n",
            "Epoch 13/50\n",
            "326/326 [==============================] - 1s 3ms/step - loss: 0.1523 - val_loss: 18914.3145\n",
            "Epoch 14/50\n",
            "326/326 [==============================] - 1s 3ms/step - loss: 0.1528 - val_loss: 18911.5273\n",
            "Epoch 15/50\n",
            "326/326 [==============================] - 1s 3ms/step - loss: 0.1516 - val_loss: 18920.6699\n",
            "Epoch 16/50\n",
            "326/326 [==============================] - 1s 3ms/step - loss: 0.1523 - val_loss: 18917.1328\n",
            "Epoch 17/50\n",
            "326/326 [==============================] - 1s 4ms/step - loss: 0.1525 - val_loss: 18917.7168\n",
            "Epoch 18/50\n",
            "326/326 [==============================] - 2s 5ms/step - loss: 0.1514 - val_loss: 18912.5801\n",
            "Epoch 19/50\n",
            "326/326 [==============================] - 1s 3ms/step - loss: 0.1509 - val_loss: 18913.8965\n",
            "Epoch 20/50\n",
            "326/326 [==============================] - 1s 4ms/step - loss: 0.1514 - val_loss: 18915.0879\n",
            "Epoch 21/50\n",
            "326/326 [==============================] - 2s 6ms/step - loss: 0.1502 - val_loss: 18918.3555\n",
            "Epoch 22/50\n",
            "326/326 [==============================] - 2s 6ms/step - loss: 0.1499 - val_loss: 18914.8008\n",
            "Epoch 23/50\n",
            "326/326 [==============================] - 2s 5ms/step - loss: 0.1502 - val_loss: 18911.2559\n",
            "Epoch 24/50\n",
            "326/326 [==============================] - 1s 4ms/step - loss: 0.1504 - val_loss: 18916.0957\n",
            "Epoch 25/50\n",
            "326/326 [==============================] - 1s 4ms/step - loss: 0.1500 - val_loss: 18914.3867\n",
            "Epoch 26/50\n",
            "326/326 [==============================] - 2s 6ms/step - loss: 0.1496 - val_loss: 18910.3633\n",
            "Epoch 27/50\n",
            "326/326 [==============================] - 2s 7ms/step - loss: 0.1498 - val_loss: 18912.4453\n",
            "Epoch 28/50\n",
            "326/326 [==============================] - 1s 4ms/step - loss: 0.1491 - val_loss: 18917.8711\n",
            "Epoch 29/50\n",
            "326/326 [==============================] - 2s 6ms/step - loss: 0.1491 - val_loss: 18911.9707\n",
            "Epoch 30/50\n",
            "326/326 [==============================] - 3s 9ms/step - loss: 0.1492 - val_loss: 18914.9512\n",
            "Epoch 31/50\n",
            "326/326 [==============================] - 2s 7ms/step - loss: 0.1485 - val_loss: 18912.3770\n",
            "Epoch 32/50\n",
            "326/326 [==============================] - 3s 10ms/step - loss: 0.1489 - val_loss: 18916.0430\n",
            "Epoch 33/50\n",
            "326/326 [==============================] - 4s 11ms/step - loss: 0.1490 - val_loss: 18914.9824\n",
            "Epoch 34/50\n",
            "326/326 [==============================] - 1s 3ms/step - loss: 0.1484 - val_loss: 18918.2129\n",
            "Epoch 35/50\n",
            "326/326 [==============================] - 1s 3ms/step - loss: 0.1488 - val_loss: 18919.4277\n",
            "Epoch 36/50\n",
            "326/326 [==============================] - 1s 3ms/step - loss: 0.1487 - val_loss: 18916.7676\n",
            "Epoch 37/50\n",
            "326/326 [==============================] - 1s 3ms/step - loss: 0.1483 - val_loss: 18916.9180\n",
            "Epoch 38/50\n",
            "326/326 [==============================] - 1s 3ms/step - loss: 0.1485 - val_loss: 18912.5938\n",
            "Epoch 39/50\n",
            "326/326 [==============================] - 1s 3ms/step - loss: 0.1481 - val_loss: 18917.5059\n",
            "Epoch 40/50\n",
            "326/326 [==============================] - 1s 3ms/step - loss: 0.1478 - val_loss: 18913.9336\n",
            "Epoch 41/50\n",
            "326/326 [==============================] - 1s 3ms/step - loss: 0.1477 - val_loss: 18918.0898\n",
            "Epoch 42/50\n",
            "326/326 [==============================] - 2s 5ms/step - loss: 0.1473 - val_loss: 18914.6816\n",
            "Epoch 43/50\n",
            "326/326 [==============================] - 1s 4ms/step - loss: 0.1476 - val_loss: 18913.5547\n",
            "Epoch 44/50\n",
            "326/326 [==============================] - 1s 3ms/step - loss: 0.1474 - val_loss: 18917.9570\n",
            "Epoch 45/50\n",
            "326/326 [==============================] - 1s 3ms/step - loss: 0.1469 - val_loss: 18914.7832\n",
            "Epoch 46/50\n",
            "326/326 [==============================] - 1s 3ms/step - loss: 0.1467 - val_loss: 18911.3125\n",
            "Epoch 47/50\n",
            "326/326 [==============================] - 1s 3ms/step - loss: 0.1469 - val_loss: 18916.7969\n",
            "Epoch 48/50\n",
            "326/326 [==============================] - 1s 3ms/step - loss: 0.1472 - val_loss: 18917.4355\n",
            "Epoch 49/50\n",
            "326/326 [==============================] - 1s 3ms/step - loss: 0.1465 - val_loss: 18915.3223\n",
            "Epoch 50/50\n",
            "326/326 [==============================] - 1s 3ms/step - loss: 0.1465 - val_loss: 18916.3516\n"
          ]
        },
        {
          "output_type": "execute_result",
          "data": {
            "text/plain": [
              "<keras.src.callbacks.History at 0x783b5690b9d0>"
            ]
          },
          "metadata": {},
          "execution_count": 12
        }
      ],
      "source": [
        "autoencoder.fit(X_train, Y_train,\n",
        "                epochs=50,\n",
        "                batch_size=256,\n",
        "                shuffle=True,\n",
        "                validation_data=(X_test, X_test))\n"
      ]
    },
    {
      "cell_type": "code",
      "execution_count": 13,
      "metadata": {
        "colab": {
          "base_uri": "https://localhost:8080/"
        },
        "id": "UjhBqLuo4YZp",
        "outputId": "03686817-2753-4809-863a-bed24ad9e415"
      },
      "outputs": [
        {
          "output_type": "stream",
          "name": "stdout",
          "text": [
            "2604/2604 [==============================] - 5s 2ms/step\n",
            "651/651 [==============================] - 1s 1ms/step\n",
            "3255/3255 [==============================] - 5s 2ms/step\n"
          ]
        }
      ],
      "source": [
        "encoder = Model(inputs=input_layer, outputs=decoded_4)\n",
        "X_train_encoded = encoder.predict(X_train)\n",
        "X_test_encoded = encoder.predict(X_test)\n",
        "X_encoded = encoder.predict(X)"
      ]
    },
    {
      "cell_type": "code",
      "source": [
        "# Compute nearest neighbors in the encoded space\n",
        "nbrs_encoded = NearestNeighbors(n_neighbors=1, algorithm='ball_tree').fit(X_train_encoded)\n",
        "distances_encoded, indices_encoded = nbrs_encoded.kneighbors(X_test_encoded)\n",
        "\n",
        "# Compute treatment effect using nearest neighbors in the encoded space\n",
        "treatment_effect_encoded = np.abs(Y_test.values - Y_train.iloc[indices_encoded.flatten()])\n",
        "\n",
        "# Calculate the mean absolute error\n",
        "mae_encoded = mean_absolute_error(Y_test, treatment_effect_encoded)\n",
        "print(f\"{mae_encoded=}\")"
      ],
      "metadata": {
        "colab": {
          "base_uri": "https://localhost:8080/"
        },
        "id": "Dc5tHloAeRhs",
        "outputId": "025eeb6c-7f49-43f1-a933-b07badecda96"
      },
      "execution_count": 14,
      "outputs": [
        {
          "output_type": "stream",
          "name": "stdout",
          "text": [
            "mae_encoded=0.2808104085649815\n"
          ]
        }
      ]
    },
    {
      "cell_type": "markdown",
      "source": [
        "Evaluating Each Method (PCA, Manifold and Autoencoder) based on the paper\n",
        "Next, to compare B. manifold learning and C. autoencoders, We also compute the estimated treatment effect for each point (ITE), and the average absolute error of ITE for B. manifold learning and C. Autoencoder, over all the data points in the test set.\n",
        "\n",
        "Mean Absolute error (ITE,autoencoder: 3.7127,\n",
        "Mean absolute error (ITE, Manifold learning): 4.4540\n",
        "Thus, autoencoder error is 20.27% lesser than manifold learning estimate for the ITE."
      ],
      "metadata": {
        "id": "fjsxwnk4chfM"
      }
    },
    {
      "cell_type": "code",
      "source": [
        "mae_pca"
      ],
      "metadata": {
        "colab": {
          "base_uri": "https://localhost:8080/"
        },
        "id": "_WZPyfBycdbr",
        "outputId": "8ebd2857-5403-4357-ece9-db49aa917aec"
      },
      "execution_count": 18,
      "outputs": [
        {
          "output_type": "execute_result",
          "data": {
            "text/plain": [
              "0.2838350376878391"
            ]
          },
          "metadata": {},
          "execution_count": 18
        }
      ]
    },
    {
      "cell_type": "code",
      "source": [
        "mae_encoded"
      ],
      "metadata": {
        "colab": {
          "base_uri": "https://localhost:8080/"
        },
        "id": "6IOdNkXaclmu",
        "outputId": "6bf38781-f316-46cb-ee18-dd72daa36cbc"
      },
      "execution_count": 19,
      "outputs": [
        {
          "output_type": "execute_result",
          "data": {
            "text/plain": [
              "0.2808104085649815"
            ]
          },
          "metadata": {},
          "execution_count": 19
        }
      ]
    },
    {
      "cell_type": "code",
      "source": [
        "print(\"Generalized Neighbor Matching using Autoencoders\")\n",
        "pd.DataFrame({\"Methods\": [\"PCA\", \"Autoencoder\"],\n",
        "              \"Mean Absolute Error\": [mae_pca, mae_encoded]})"
      ],
      "metadata": {
        "colab": {
          "base_uri": "https://localhost:8080/",
          "height": 130
        },
        "id": "ok7yCMC7cn0l",
        "outputId": "b1b5d690-1b53-4893-f8f0-2876346e58e8"
      },
      "execution_count": 47,
      "outputs": [
        {
          "output_type": "stream",
          "name": "stdout",
          "text": [
            "Generalized Neighbor Matching using Autoencoders\n"
          ]
        },
        {
          "output_type": "execute_result",
          "data": {
            "text/plain": [
              "       Methods  Mean Absolute Error\n",
              "0          PCA             0.283835\n",
              "1  Autoencoder             0.280810"
            ],
            "text/html": [
              "\n",
              "  <div id=\"df-1a3a1cfc-88a9-41f1-a2f4-52578768539c\" class=\"colab-df-container\">\n",
              "    <div>\n",
              "<style scoped>\n",
              "    .dataframe tbody tr th:only-of-type {\n",
              "        vertical-align: middle;\n",
              "    }\n",
              "\n",
              "    .dataframe tbody tr th {\n",
              "        vertical-align: top;\n",
              "    }\n",
              "\n",
              "    .dataframe thead th {\n",
              "        text-align: right;\n",
              "    }\n",
              "</style>\n",
              "<table border=\"1\" class=\"dataframe\">\n",
              "  <thead>\n",
              "    <tr style=\"text-align: right;\">\n",
              "      <th></th>\n",
              "      <th>Methods</th>\n",
              "      <th>Mean Absolute Error</th>\n",
              "    </tr>\n",
              "  </thead>\n",
              "  <tbody>\n",
              "    <tr>\n",
              "      <th>0</th>\n",
              "      <td>PCA</td>\n",
              "      <td>0.283835</td>\n",
              "    </tr>\n",
              "    <tr>\n",
              "      <th>1</th>\n",
              "      <td>Autoencoder</td>\n",
              "      <td>0.280810</td>\n",
              "    </tr>\n",
              "  </tbody>\n",
              "</table>\n",
              "</div>\n",
              "    <div class=\"colab-df-buttons\">\n",
              "\n",
              "  <div class=\"colab-df-container\">\n",
              "    <button class=\"colab-df-convert\" onclick=\"convertToInteractive('df-1a3a1cfc-88a9-41f1-a2f4-52578768539c')\"\n",
              "            title=\"Convert this dataframe to an interactive table.\"\n",
              "            style=\"display:none;\">\n",
              "\n",
              "  <svg xmlns=\"http://www.w3.org/2000/svg\" height=\"24px\" viewBox=\"0 -960 960 960\">\n",
              "    <path d=\"M120-120v-720h720v720H120Zm60-500h600v-160H180v160Zm220 220h160v-160H400v160Zm0 220h160v-160H400v160ZM180-400h160v-160H180v160Zm440 0h160v-160H620v160ZM180-180h160v-160H180v160Zm440 0h160v-160H620v160Z\"/>\n",
              "  </svg>\n",
              "    </button>\n",
              "\n",
              "  <style>\n",
              "    .colab-df-container {\n",
              "      display:flex;\n",
              "      gap: 12px;\n",
              "    }\n",
              "\n",
              "    .colab-df-convert {\n",
              "      background-color: #E8F0FE;\n",
              "      border: none;\n",
              "      border-radius: 50%;\n",
              "      cursor: pointer;\n",
              "      display: none;\n",
              "      fill: #1967D2;\n",
              "      height: 32px;\n",
              "      padding: 0 0 0 0;\n",
              "      width: 32px;\n",
              "    }\n",
              "\n",
              "    .colab-df-convert:hover {\n",
              "      background-color: #E2EBFA;\n",
              "      box-shadow: 0px 1px 2px rgba(60, 64, 67, 0.3), 0px 1px 3px 1px rgba(60, 64, 67, 0.15);\n",
              "      fill: #174EA6;\n",
              "    }\n",
              "\n",
              "    .colab-df-buttons div {\n",
              "      margin-bottom: 4px;\n",
              "    }\n",
              "\n",
              "    [theme=dark] .colab-df-convert {\n",
              "      background-color: #3B4455;\n",
              "      fill: #D2E3FC;\n",
              "    }\n",
              "\n",
              "    [theme=dark] .colab-df-convert:hover {\n",
              "      background-color: #434B5C;\n",
              "      box-shadow: 0px 1px 3px 1px rgba(0, 0, 0, 0.15);\n",
              "      filter: drop-shadow(0px 1px 2px rgba(0, 0, 0, 0.3));\n",
              "      fill: #FFFFFF;\n",
              "    }\n",
              "  </style>\n",
              "\n",
              "    <script>\n",
              "      const buttonEl =\n",
              "        document.querySelector('#df-1a3a1cfc-88a9-41f1-a2f4-52578768539c button.colab-df-convert');\n",
              "      buttonEl.style.display =\n",
              "        google.colab.kernel.accessAllowed ? 'block' : 'none';\n",
              "\n",
              "      async function convertToInteractive(key) {\n",
              "        const element = document.querySelector('#df-1a3a1cfc-88a9-41f1-a2f4-52578768539c');\n",
              "        const dataTable =\n",
              "          await google.colab.kernel.invokeFunction('convertToInteractive',\n",
              "                                                    [key], {});\n",
              "        if (!dataTable) return;\n",
              "\n",
              "        const docLinkHtml = 'Like what you see? Visit the ' +\n",
              "          '<a target=\"_blank\" href=https://colab.research.google.com/notebooks/data_table.ipynb>data table notebook</a>'\n",
              "          + ' to learn more about interactive tables.';\n",
              "        element.innerHTML = '';\n",
              "        dataTable['output_type'] = 'display_data';\n",
              "        await google.colab.output.renderOutput(dataTable, element);\n",
              "        const docLink = document.createElement('div');\n",
              "        docLink.innerHTML = docLinkHtml;\n",
              "        element.appendChild(docLink);\n",
              "      }\n",
              "    </script>\n",
              "  </div>\n",
              "\n",
              "\n",
              "<div id=\"df-b14c4425-f26e-4fcd-973d-d4951cd6b5a1\">\n",
              "  <button class=\"colab-df-quickchart\" onclick=\"quickchart('df-b14c4425-f26e-4fcd-973d-d4951cd6b5a1')\"\n",
              "            title=\"Suggest charts\"\n",
              "            style=\"display:none;\">\n",
              "\n",
              "<svg xmlns=\"http://www.w3.org/2000/svg\" height=\"24px\"viewBox=\"0 0 24 24\"\n",
              "     width=\"24px\">\n",
              "    <g>\n",
              "        <path d=\"M19 3H5c-1.1 0-2 .9-2 2v14c0 1.1.9 2 2 2h14c1.1 0 2-.9 2-2V5c0-1.1-.9-2-2-2zM9 17H7v-7h2v7zm4 0h-2V7h2v10zm4 0h-2v-4h2v4z\"/>\n",
              "    </g>\n",
              "</svg>\n",
              "  </button>\n",
              "\n",
              "<style>\n",
              "  .colab-df-quickchart {\n",
              "      --bg-color: #E8F0FE;\n",
              "      --fill-color: #1967D2;\n",
              "      --hover-bg-color: #E2EBFA;\n",
              "      --hover-fill-color: #174EA6;\n",
              "      --disabled-fill-color: #AAA;\n",
              "      --disabled-bg-color: #DDD;\n",
              "  }\n",
              "\n",
              "  [theme=dark] .colab-df-quickchart {\n",
              "      --bg-color: #3B4455;\n",
              "      --fill-color: #D2E3FC;\n",
              "      --hover-bg-color: #434B5C;\n",
              "      --hover-fill-color: #FFFFFF;\n",
              "      --disabled-bg-color: #3B4455;\n",
              "      --disabled-fill-color: #666;\n",
              "  }\n",
              "\n",
              "  .colab-df-quickchart {\n",
              "    background-color: var(--bg-color);\n",
              "    border: none;\n",
              "    border-radius: 50%;\n",
              "    cursor: pointer;\n",
              "    display: none;\n",
              "    fill: var(--fill-color);\n",
              "    height: 32px;\n",
              "    padding: 0;\n",
              "    width: 32px;\n",
              "  }\n",
              "\n",
              "  .colab-df-quickchart:hover {\n",
              "    background-color: var(--hover-bg-color);\n",
              "    box-shadow: 0 1px 2px rgba(60, 64, 67, 0.3), 0 1px 3px 1px rgba(60, 64, 67, 0.15);\n",
              "    fill: var(--button-hover-fill-color);\n",
              "  }\n",
              "\n",
              "  .colab-df-quickchart-complete:disabled,\n",
              "  .colab-df-quickchart-complete:disabled:hover {\n",
              "    background-color: var(--disabled-bg-color);\n",
              "    fill: var(--disabled-fill-color);\n",
              "    box-shadow: none;\n",
              "  }\n",
              "\n",
              "  .colab-df-spinner {\n",
              "    border: 2px solid var(--fill-color);\n",
              "    border-color: transparent;\n",
              "    border-bottom-color: var(--fill-color);\n",
              "    animation:\n",
              "      spin 1s steps(1) infinite;\n",
              "  }\n",
              "\n",
              "  @keyframes spin {\n",
              "    0% {\n",
              "      border-color: transparent;\n",
              "      border-bottom-color: var(--fill-color);\n",
              "      border-left-color: var(--fill-color);\n",
              "    }\n",
              "    20% {\n",
              "      border-color: transparent;\n",
              "      border-left-color: var(--fill-color);\n",
              "      border-top-color: var(--fill-color);\n",
              "    }\n",
              "    30% {\n",
              "      border-color: transparent;\n",
              "      border-left-color: var(--fill-color);\n",
              "      border-top-color: var(--fill-color);\n",
              "      border-right-color: var(--fill-color);\n",
              "    }\n",
              "    40% {\n",
              "      border-color: transparent;\n",
              "      border-right-color: var(--fill-color);\n",
              "      border-top-color: var(--fill-color);\n",
              "    }\n",
              "    60% {\n",
              "      border-color: transparent;\n",
              "      border-right-color: var(--fill-color);\n",
              "    }\n",
              "    80% {\n",
              "      border-color: transparent;\n",
              "      border-right-color: var(--fill-color);\n",
              "      border-bottom-color: var(--fill-color);\n",
              "    }\n",
              "    90% {\n",
              "      border-color: transparent;\n",
              "      border-bottom-color: var(--fill-color);\n",
              "    }\n",
              "  }\n",
              "</style>\n",
              "\n",
              "  <script>\n",
              "    async function quickchart(key) {\n",
              "      const quickchartButtonEl =\n",
              "        document.querySelector('#' + key + ' button');\n",
              "      quickchartButtonEl.disabled = true;  // To prevent multiple clicks.\n",
              "      quickchartButtonEl.classList.add('colab-df-spinner');\n",
              "      try {\n",
              "        const charts = await google.colab.kernel.invokeFunction(\n",
              "            'suggestCharts', [key], {});\n",
              "      } catch (error) {\n",
              "        console.error('Error during call to suggestCharts:', error);\n",
              "      }\n",
              "      quickchartButtonEl.classList.remove('colab-df-spinner');\n",
              "      quickchartButtonEl.classList.add('colab-df-quickchart-complete');\n",
              "    }\n",
              "    (() => {\n",
              "      let quickchartButtonEl =\n",
              "        document.querySelector('#df-b14c4425-f26e-4fcd-973d-d4951cd6b5a1 button');\n",
              "      quickchartButtonEl.style.display =\n",
              "        google.colab.kernel.accessAllowed ? 'block' : 'none';\n",
              "    })();\n",
              "  </script>\n",
              "</div>\n",
              "    </div>\n",
              "  </div>\n"
            ],
            "application/vnd.google.colaboratory.intrinsic+json": {
              "type": "dataframe",
              "summary": "{\n  \"name\": \"              \\\"Mean Absolute Error\\\": [mae_pca, mae_encoded]})\",\n  \"rows\": 2,\n  \"fields\": [\n    {\n      \"column\": \"Methods\",\n      \"properties\": {\n        \"dtype\": \"string\",\n        \"num_unique_values\": 2,\n        \"samples\": [\n          \"Autoencoder\",\n          \"PCA\"\n        ],\n        \"semantic_type\": \"\",\n        \"description\": \"\"\n      }\n    },\n    {\n      \"column\": \"Mean Absolute Error\",\n      \"properties\": {\n        \"dtype\": \"number\",\n        \"std\": 0.002138735763346899,\n        \"min\": 0.2808104085649815,\n        \"max\": 0.2838350376878391,\n        \"num_unique_values\": 2,\n        \"samples\": [\n          0.2808104085649815,\n          0.2838350376878391\n        ],\n        \"semantic_type\": \"\",\n        \"description\": \"\"\n      }\n    }\n  ]\n}"
            }
          },
          "metadata": {},
          "execution_count": 47
        }
      ]
    },
    {
      "cell_type": "markdown",
      "metadata": {
        "id": "TYA1U_1Frm-e"
      },
      "source": [
        "### 2. **Deep Neural Networks (DNNs) for Propensity Score Matching**\n",
        "\n",
        "Propensity score matching is a popular technique, but traditionally uses logistic regression for propensity score estimation. The paper proposes using deep neural network classifiers instead, presenting a model called PropensityNet.\n",
        "\n",
        "The key points are:\n",
        "\n",
        "* DNNs can potentially capture complex non-linear relationships better than logistic regression\n",
        "* PropensityNet is trained to estimate propensity scores as a binary classification problem\n",
        "* Experiments show PropensityNet outperforms logistic regression for propensity score estimation\n",
        "* This leads to better matching of treated and untreated units for ITE calculation"
      ]
    },
    {
      "cell_type": "code",
      "execution_count": 29,
      "metadata": {
        "id": "LF3O2QTIrm-e"
      },
      "outputs": [],
      "source": [
        "# Regular Logistic Regression\n",
        "log_reg = LogisticRegression(max_iter = 10000).fit(X_train_encoded, Y_train)\n",
        "preds = log_reg.predict_proba(X_encoded)\n",
        "\n",
        "df_copy = df.copy()\n",
        "df_copy.loc[:, 'propensity_score'] = preds[:, 1]"
      ]
    },
    {
      "cell_type": "code",
      "source": [
        "from sklearn.metrics import mean_absolute_error\n",
        "mae_logistic_regression = mean_absolute_error(y, preds[:,1])\n",
        "print(f\"Mean Absolute Misclassification Error: {mae_logistic_regression}\")"
      ],
      "metadata": {
        "colab": {
          "base_uri": "https://localhost:8080/"
        },
        "id": "Vn1lGw6AMuUr",
        "outputId": "f15acb5a-6c36-414c-e5cc-490d0dc568c9"
      },
      "execution_count": 30,
      "outputs": [
        {
          "output_type": "stream",
          "name": "stdout",
          "text": [
            "Mean Absolute Misclassification Error: 0.29055764020838515\n"
          ]
        }
      ]
    },
    {
      "cell_type": "code",
      "source": [
        "threshold = 0.5\n",
        "y_pred = (preds >= threshold).astype(int)\n",
        "\n",
        "# True labels\n",
        "y_true = y  # Assuming y_test contains the true labels\n",
        "\n",
        "# Misassignments\n",
        "misassignments_logistic_regression = (np.sum(y_pred[:,1] != y_true)/len(y_true))*100\n",
        "print(f\"Number of Misassignments percentage: {misassignments_logistic_regression}\")\n"
      ],
      "metadata": {
        "colab": {
          "base_uri": "https://localhost:8080/"
        },
        "id": "z9PfT7meOAfz",
        "outputId": "ec8b296d-170c-4828-dcac-efb688f1ba06"
      },
      "execution_count": 31,
      "outputs": [
        {
          "output_type": "stream",
          "name": "stdout",
          "text": [
            "Number of Misassignments percentage: 19.66430773071642\n"
          ]
        }
      ]
    },
    {
      "cell_type": "code",
      "execution_count": 32,
      "metadata": {
        "colab": {
          "base_uri": "https://localhost:8080/"
        },
        "id": "v46JY7e7rm-e",
        "outputId": "d3339368-4de1-4cfe-bac9-a60bf53b86c2"
      },
      "outputs": [
        {
          "output_type": "execute_result",
          "data": {
            "text/plain": [
              "is_churned\n",
              "0    0.203948\n",
              "1    0.494075\n",
              "Name: propensity_score, dtype: float64"
            ]
          },
          "metadata": {},
          "execution_count": 32
        }
      ],
      "source": [
        "df_copy.groupby('is_churned')['propensity_score'].mean()"
      ]
    },
    {
      "cell_type": "code",
      "execution_count": 34,
      "metadata": {
        "colab": {
          "base_uri": "https://localhost:8080/"
        },
        "id": "TfCxm6tarm-e",
        "outputId": "f9ce5ee6-4905-42c0-d67f-090f0c7bef41"
      },
      "outputs": [
        {
          "output_type": "stream",
          "name": "stdout",
          "text": [
            "0.8033569226928358\n"
          ]
        }
      ],
      "source": [
        "# assuming a 0.5 threshold\n",
        "accuracy_score_logistic_regression = accuracy_score(y, (preds[:, 1] > 0.5).astype('int'))\n",
        "\n",
        "print(accuracy_score_logistic_regression)"
      ]
    },
    {
      "cell_type": "markdown",
      "metadata": {
        "id": "EIC203Xcrm-e"
      },
      "source": [
        "---"
      ]
    },
    {
      "cell_type": "code",
      "source": [
        "pip install keras-tuner"
      ],
      "metadata": {
        "colab": {
          "base_uri": "https://localhost:8080/"
        },
        "id": "fec_BwbaiBpk",
        "outputId": "9dffa5cc-9c05-49d7-e8ea-a333295905ea"
      },
      "execution_count": 54,
      "outputs": [
        {
          "output_type": "stream",
          "name": "stdout",
          "text": [
            "Requirement already satisfied: keras-tuner in /usr/local/lib/python3.10/dist-packages (1.4.7)\n",
            "Requirement already satisfied: keras in /usr/local/lib/python3.10/dist-packages (from keras-tuner) (2.15.0)\n",
            "Requirement already satisfied: packaging in /usr/local/lib/python3.10/dist-packages (from keras-tuner) (24.0)\n",
            "Requirement already satisfied: requests in /usr/local/lib/python3.10/dist-packages (from keras-tuner) (2.31.0)\n",
            "Requirement already satisfied: kt-legacy in /usr/local/lib/python3.10/dist-packages (from keras-tuner) (1.0.5)\n",
            "Requirement already satisfied: charset-normalizer<4,>=2 in /usr/local/lib/python3.10/dist-packages (from requests->keras-tuner) (3.3.2)\n",
            "Requirement already satisfied: idna<4,>=2.5 in /usr/local/lib/python3.10/dist-packages (from requests->keras-tuner) (3.7)\n",
            "Requirement already satisfied: urllib3<3,>=1.21.1 in /usr/local/lib/python3.10/dist-packages (from requests->keras-tuner) (2.0.7)\n",
            "Requirement already satisfied: certifi>=2017.4.17 in /usr/local/lib/python3.10/dist-packages (from requests->keras-tuner) (2024.2.2)\n"
          ]
        }
      ]
    },
    {
      "cell_type": "code",
      "source": [
        "import tensorflow as tf\n",
        "from tensorflow.keras.layers import Dense, Dropout\n",
        "from tensorflow.keras.models import Sequential\n",
        "from tensorflow.keras.optimizers import Adam\n",
        "from keras_tuner import HyperModel, RandomSearch\n",
        "\n",
        "def build_model(hp):\n",
        "    model = Sequential([\n",
        "        Dense(units=hp.Int('units_1', min_value=32, max_value=128, step=32),\n",
        "              input_shape=(11,),\n",
        "              activation='relu'),\n",
        "        Dense(units=hp.Int('units_2', min_value=32, max_value=128, step=32),\n",
        "              activation='relu'),\n",
        "        Dense(units=hp.Int('units_3', min_value=32, max_value=128, step=32),\n",
        "              activation='relu'),\n",
        "        Dense(units=hp.Int('units_4', min_value=16, max_value=64, step=16),\n",
        "              activation='relu'),\n",
        "        Dense(units=hp.Int('units_5', min_value=16, max_value=64, step=16),\n",
        "              activation='relu'),\n",
        "        Dropout(rate=hp.Float('dropout', min_value=0.0, max_value=0.5, step=0.1)),\n",
        "        Dense(1, activation='sigmoid')\n",
        "    ])\n",
        "\n",
        "    model.compile(optimizer=Adam(hp.Choice('learning_rate', [1e-2, 1e-3, 1e-4])),\n",
        "                  loss='binary_crossentropy',\n",
        "                  metrics=['accuracy'])\n",
        "    return model\n"
      ],
      "metadata": {
        "id": "46bYy5M7iNNA"
      },
      "execution_count": 55,
      "outputs": []
    },
    {
      "cell_type": "code",
      "source": [
        "tuner = RandomSearch(\n",
        "    build_model,\n",
        "    objective='val_accuracy',\n",
        "    max_trials=20,\n",
        "    executions_per_trial=1,\n",
        "    directory='propnet_dnn_tuning',\n",
        "    project_name='Deep_Learning'\n",
        ")\n",
        "\n",
        "# Optional: Define a callback to clear the training outputs at the end of every training step.\n",
        "class ClearTrainingOutput(tf.keras.callbacks.Callback):\n",
        "    def on_train_end(*args, **kwargs):\n",
        "        from IPython.display import clear_output\n",
        "        clear_output(wait=True)"
      ],
      "metadata": {
        "id": "8dfcvKFgjHuj"
      },
      "execution_count": 56,
      "outputs": []
    },
    {
      "cell_type": "code",
      "source": [
        "tuner.search(x=X_train_encoded, y=Y_train,\n",
        "             epochs=50,\n",
        "             batch_size=256,\n",
        "             validation_data=(X_test_encoded, Y_test),\n",
        "             callbacks=[ClearTrainingOutput()])\n"
      ],
      "metadata": {
        "colab": {
          "base_uri": "https://localhost:8080/"
        },
        "id": "9gFmK_avjLCN",
        "outputId": "2b99399c-bd83-4f30-c620-e68eacaba602"
      },
      "execution_count": 57,
      "outputs": [
        {
          "output_type": "stream",
          "name": "stdout",
          "text": [
            "Trial 20 Complete [00h 01m 22s]\n",
            "val_accuracy: 0.806279718875885\n",
            "\n",
            "Best val_accuracy So Far: 0.8064237236976624\n",
            "Total elapsed time: 00h 33m 45s\n"
          ]
        }
      ]
    },
    {
      "cell_type": "code",
      "source": [
        "best_model = tuner.get_best_models(num_models=1)[0]\n",
        "loss, accuracy = best_model.evaluate(X_test_encoded, Y_test)\n",
        "print(f\"Loss: {loss}, Accuracy: {accuracy}\")"
      ],
      "metadata": {
        "colab": {
          "base_uri": "https://localhost:8080/"
        },
        "id": "7Tb-yWkDl9o4",
        "outputId": "7e04f3b9-7b16-48a3-8ba2-2fdf257c39a3"
      },
      "execution_count": 58,
      "outputs": [
        {
          "output_type": "stream",
          "name": "stdout",
          "text": [
            "651/651 [==============================] - 1s 2ms/step - loss: 0.4527 - accuracy: 0.8064\n",
            "Loss: 0.4527221620082855, Accuracy: 0.8064237236976624\n"
          ]
        }
      ]
    },
    {
      "cell_type": "code",
      "source": [
        "best_hyperparameters = tuner.get_best_hyperparameters(num_trials=1)[0]\n",
        "print(\"Best hyperparameters found:\")\n",
        "for param, value in best_hyperparameters.values.items():\n",
        "    print(f\"{param}: {value}\")"
      ],
      "metadata": {
        "colab": {
          "base_uri": "https://localhost:8080/"
        },
        "id": "vK9M9zWjwms_",
        "outputId": "3b679aa4-33e7-4935-9311-8b5b3556bd42"
      },
      "execution_count": 62,
      "outputs": [
        {
          "output_type": "stream",
          "name": "stdout",
          "text": [
            "Best hyperparameters found:\n",
            "units_1: 96\n",
            "units_2: 96\n",
            "units_3: 64\n",
            "units_4: 16\n",
            "units_5: 32\n",
            "dropout: 0.1\n",
            "learning_rate: 0.01\n"
          ]
        }
      ]
    },
    {
      "cell_type": "code",
      "source": [
        "print(best_model.summary())"
      ],
      "metadata": {
        "colab": {
          "base_uri": "https://localhost:8080/"
        },
        "id": "RLKqLdGKtjZM",
        "outputId": "3e5eebc2-9556-40eb-eb9d-371f20d3574b"
      },
      "execution_count": 60,
      "outputs": [
        {
          "output_type": "stream",
          "name": "stdout",
          "text": [
            "Model: \"sequential\"\n",
            "_________________________________________________________________\n",
            " Layer (type)                Output Shape              Param #   \n",
            "=================================================================\n",
            " dense (Dense)               (None, 96)                1152      \n",
            "                                                                 \n",
            " dense_1 (Dense)             (None, 96)                9312      \n",
            "                                                                 \n",
            " dense_2 (Dense)             (None, 64)                6208      \n",
            "                                                                 \n",
            " dense_3 (Dense)             (None, 16)                1040      \n",
            "                                                                 \n",
            " dense_4 (Dense)             (None, 32)                544       \n",
            "                                                                 \n",
            " dropout (Dropout)           (None, 32)                0         \n",
            "                                                                 \n",
            " dense_5 (Dense)             (None, 1)                 33        \n",
            "                                                                 \n",
            "=================================================================\n",
            "Total params: 18289 (71.44 KB)\n",
            "Trainable params: 18289 (71.44 KB)\n",
            "Non-trainable params: 0 (0.00 Byte)\n",
            "_________________________________________________________________\n",
            "None\n"
          ]
        }
      ]
    },
    {
      "cell_type": "code",
      "source": [
        "# Running the best model using the Sequential API\n",
        "model = Sequential([\n",
        "    Dense(96, input_shape=(11,), activation='relu'),  # Input layer with 11 features and first hidden layer with 64 neurons\n",
        "    Dense(96, activation='relu'),  # Second hidden layer\n",
        "    Dense(64, activation='relu'),  # Third hidden layer\n",
        "    Dense(16, activation='relu'),  # Fourth hidden layer\n",
        "    Dense(32, activation='relu'),  # Fifth hidden layer\n",
        "    Dropout(0.1),  # Dropout layer\n",
        "    Dense(1, activation='sigmoid')  # Output layer\n",
        "])\n",
        "\n",
        "# Compile the model with binary cross-entropy loss and the Adam optimizer\n",
        "model.compile(optimizer=Adam(learning_rate=0.01),\n",
        "              loss='binary_crossentropy',\n",
        "              metrics=['accuracy'])  # Include accuracy if you want to monitor it during training"
      ],
      "metadata": {
        "id": "G3SEUJX2tq70"
      },
      "execution_count": 27,
      "outputs": []
    },
    {
      "cell_type": "code",
      "source": [
        "# Train the model\n",
        "history = model.fit(X_train_encoded, Y_train, epochs=50)  # Specify the number of epochs according to your training needs"
      ],
      "metadata": {
        "colab": {
          "base_uri": "https://localhost:8080/"
        },
        "id": "ubJhPGLww9rJ",
        "outputId": "db6360b8-9394-4c77-ae48-0a27da4390cd"
      },
      "execution_count": 28,
      "outputs": [
        {
          "output_type": "stream",
          "name": "stdout",
          "text": [
            "Epoch 1/50\n",
            "2604/2604 [==============================] - 11s 4ms/step - loss: 0.4706 - accuracy: 0.7990\n",
            "Epoch 2/50\n",
            "2604/2604 [==============================] - 9s 3ms/step - loss: 0.4666 - accuracy: 0.8013\n",
            "Epoch 3/50\n",
            "2604/2604 [==============================] - 15s 6ms/step - loss: 0.4664 - accuracy: 0.8014\n",
            "Epoch 4/50\n",
            "2604/2604 [==============================] - 12s 5ms/step - loss: 0.4663 - accuracy: 0.8011\n",
            "Epoch 5/50\n",
            "2604/2604 [==============================] - 11s 4ms/step - loss: 0.4663 - accuracy: 0.8008\n",
            "Epoch 6/50\n",
            "2604/2604 [==============================] - 9s 4ms/step - loss: 0.4653 - accuracy: 0.8020\n",
            "Epoch 7/50\n",
            "2604/2604 [==============================] - 6s 2ms/step - loss: 0.4647 - accuracy: 0.8015\n",
            "Epoch 8/50\n",
            "2604/2604 [==============================] - 7s 3ms/step - loss: 0.4643 - accuracy: 0.8022\n",
            "Epoch 9/50\n",
            "2604/2604 [==============================] - 6s 2ms/step - loss: 0.4645 - accuracy: 0.8018\n",
            "Epoch 10/50\n",
            "2604/2604 [==============================] - 7s 3ms/step - loss: 0.4646 - accuracy: 0.8014\n",
            "Epoch 11/50\n",
            "2604/2604 [==============================] - 6s 2ms/step - loss: 0.4653 - accuracy: 0.8011\n",
            "Epoch 12/50\n",
            "2604/2604 [==============================] - 8s 3ms/step - loss: 0.4641 - accuracy: 0.8017\n",
            "Epoch 13/50\n",
            "2604/2604 [==============================] - 7s 3ms/step - loss: 0.4639 - accuracy: 0.8021\n",
            "Epoch 14/50\n",
            "2604/2604 [==============================] - 6s 2ms/step - loss: 0.4639 - accuracy: 0.8011\n",
            "Epoch 15/50\n",
            "2604/2604 [==============================] - 7s 3ms/step - loss: 0.4632 - accuracy: 0.8017\n",
            "Epoch 16/50\n",
            "2604/2604 [==============================] - 6s 2ms/step - loss: 0.4644 - accuracy: 0.8011\n",
            "Epoch 17/50\n",
            "2604/2604 [==============================] - 7s 3ms/step - loss: 0.4643 - accuracy: 0.8022\n",
            "Epoch 18/50\n",
            "2604/2604 [==============================] - 6s 2ms/step - loss: 0.4636 - accuracy: 0.8016\n",
            "Epoch 19/50\n",
            "2604/2604 [==============================] - 7s 3ms/step - loss: 0.4636 - accuracy: 0.8024\n",
            "Epoch 20/50\n",
            "2604/2604 [==============================] - 6s 2ms/step - loss: 0.4638 - accuracy: 0.8012\n",
            "Epoch 21/50\n",
            "2604/2604 [==============================] - 8s 3ms/step - loss: 0.4641 - accuracy: 0.8017\n",
            "Epoch 22/50\n",
            "2604/2604 [==============================] - 6s 2ms/step - loss: 0.4641 - accuracy: 0.8012\n",
            "Epoch 23/50\n",
            "2604/2604 [==============================] - 10s 4ms/step - loss: 0.4636 - accuracy: 0.8014\n",
            "Epoch 24/50\n",
            "2604/2604 [==============================] - 18s 7ms/step - loss: 0.4641 - accuracy: 0.8022\n",
            "Epoch 25/50\n",
            "2604/2604 [==============================] - 8s 3ms/step - loss: 0.4638 - accuracy: 0.8015\n",
            "Epoch 26/50\n",
            "2604/2604 [==============================] - 7s 3ms/step - loss: 0.4636 - accuracy: 0.8017\n",
            "Epoch 27/50\n",
            "2604/2604 [==============================] - 6s 2ms/step - loss: 0.4634 - accuracy: 0.8010\n",
            "Epoch 28/50\n",
            "2604/2604 [==============================] - 9s 3ms/step - loss: 0.4645 - accuracy: 0.8014\n",
            "Epoch 29/50\n",
            "2604/2604 [==============================] - 16s 6ms/step - loss: 0.4636 - accuracy: 0.8011\n",
            "Epoch 30/50\n",
            "2604/2604 [==============================] - 8s 3ms/step - loss: 0.4638 - accuracy: 0.8009\n",
            "Epoch 31/50\n",
            "2604/2604 [==============================] - 6s 2ms/step - loss: 0.4636 - accuracy: 0.8023\n",
            "Epoch 32/50\n",
            "2604/2604 [==============================] - 7s 3ms/step - loss: 0.4641 - accuracy: 0.8009\n",
            "Epoch 33/50\n",
            "2604/2604 [==============================] - 6s 2ms/step - loss: 0.4640 - accuracy: 0.8019\n",
            "Epoch 34/50\n",
            "2604/2604 [==============================] - 7s 3ms/step - loss: 0.4642 - accuracy: 0.8013\n",
            "Epoch 35/50\n",
            "2604/2604 [==============================] - 7s 3ms/step - loss: 0.4635 - accuracy: 0.8010\n",
            "Epoch 36/50\n",
            "2604/2604 [==============================] - 9s 3ms/step - loss: 0.4642 - accuracy: 0.8009\n",
            "Epoch 37/50\n",
            "2604/2604 [==============================] - 7s 2ms/step - loss: 0.4642 - accuracy: 0.8011\n",
            "Epoch 38/50\n",
            "2604/2604 [==============================] - 8s 3ms/step - loss: 0.4637 - accuracy: 0.8015\n",
            "Epoch 39/50\n",
            "2604/2604 [==============================] - 7s 3ms/step - loss: 0.4638 - accuracy: 0.8015\n",
            "Epoch 40/50\n",
            "2604/2604 [==============================] - 7s 3ms/step - loss: 0.4636 - accuracy: 0.8013\n",
            "Epoch 41/50\n",
            "2604/2604 [==============================] - 7s 3ms/step - loss: 0.4635 - accuracy: 0.8008\n",
            "Epoch 42/50\n",
            "2604/2604 [==============================] - 10s 4ms/step - loss: 0.4637 - accuracy: 0.8007\n",
            "Epoch 43/50\n",
            "2604/2604 [==============================] - 20s 8ms/step - loss: 0.4640 - accuracy: 0.8008\n",
            "Epoch 44/50\n",
            "2604/2604 [==============================] - 8s 3ms/step - loss: 0.4642 - accuracy: 0.8008\n",
            "Epoch 45/50\n",
            "2604/2604 [==============================] - 13s 5ms/step - loss: 0.4639 - accuracy: 0.8014\n",
            "Epoch 46/50\n",
            "2604/2604 [==============================] - 15s 6ms/step - loss: 0.4638 - accuracy: 0.8006\n",
            "Epoch 47/50\n",
            "2604/2604 [==============================] - 7s 3ms/step - loss: 0.4635 - accuracy: 0.8019\n",
            "Epoch 48/50\n",
            "2604/2604 [==============================] - 6s 2ms/step - loss: 0.4638 - accuracy: 0.8011\n",
            "Epoch 49/50\n",
            "2604/2604 [==============================] - 7s 3ms/step - loss: 0.4643 - accuracy: 0.8007\n",
            "Epoch 50/50\n",
            "2604/2604 [==============================] - 6s 2ms/step - loss: 0.4641 - accuracy: 0.8012\n"
          ]
        }
      ]
    },
    {
      "cell_type": "code",
      "source": [
        "preds_dnn = model.predict(X_encoded)"
      ],
      "metadata": {
        "colab": {
          "base_uri": "https://localhost:8080/"
        },
        "id": "zrlxkReSxCiH",
        "outputId": "c008a423-67d6-4c1e-b775-744ff99adfc4"
      },
      "execution_count": 35,
      "outputs": [
        {
          "output_type": "stream",
          "name": "stdout",
          "text": [
            "3255/3255 [==============================] - 5s 1ms/step\n"
          ]
        }
      ]
    },
    {
      "cell_type": "code",
      "source": [
        "print(preds_dnn)"
      ],
      "metadata": {
        "colab": {
          "base_uri": "https://localhost:8080/"
        },
        "id": "eN6GRjpsxFP4",
        "outputId": "856162ec-1c74-4d60-f2fb-ce36d6c76d4a"
      },
      "execution_count": 36,
      "outputs": [
        {
          "output_type": "stream",
          "name": "stdout",
          "text": [
            "[[0.8186367 ]\n",
            " [0.9378045 ]\n",
            " [0.3426064 ]\n",
            " ...\n",
            " [0.40788627]\n",
            " [0.09679972]\n",
            " [0.0858974 ]]\n"
          ]
        }
      ]
    },
    {
      "cell_type": "code",
      "source": [
        "preds_dnn = np.squeeze(preds_dnn)\n",
        "print(preds_dnn.shape)"
      ],
      "metadata": {
        "colab": {
          "base_uri": "https://localhost:8080/"
        },
        "id": "2ByUsy26xH7W",
        "outputId": "911760f0-5557-47c8-ef18-28364c8074fa"
      },
      "execution_count": 37,
      "outputs": [
        {
          "output_type": "stream",
          "name": "stdout",
          "text": [
            "(104143,)\n"
          ]
        }
      ]
    },
    {
      "cell_type": "code",
      "source": [
        "import numpy as np\n",
        "from sklearn.metrics import mean_absolute_error\n",
        "\n",
        "# Assuming y_pred_probs are the predicted probabilities and y_true are the actual labels  # Output of the model's sigmoid function\n",
        "y_true = y                       # Actual labels\n",
        "\n",
        "# Calculate MAE\n",
        "mae_propensity_net = mean_absolute_error(y_true, preds_dnn)\n",
        "print(f\"Mean Absolute Classification Error: {mae_propensity_net}\")\n"
      ],
      "metadata": {
        "colab": {
          "base_uri": "https://localhost:8080/"
        },
        "id": "Edh_94j7xK2K",
        "outputId": "e398ce01-8040-4ab8-f933-9fc049765c5b"
      },
      "execution_count": 38,
      "outputs": [
        {
          "output_type": "stream",
          "name": "stdout",
          "text": [
            "Mean Absolute Classification Error: 0.29118936873045465\n"
          ]
        }
      ]
    },
    {
      "cell_type": "code",
      "source": [
        "threshold = 0.5\n",
        "y_pred = (preds_dnn >= threshold).astype(int)\n",
        "# True labels\n",
        "y_true = np.array(y) # Assuming y_test contains the true labels\n",
        "# Misassignments\n",
        "misassignments_propensity_net = (np.sum(y_pred != y_true)/len(y_true))*100\n",
        "print(f\"Number of Misassignments percentage: {misassignments_propensity_net}\")"
      ],
      "metadata": {
        "colab": {
          "base_uri": "https://localhost:8080/"
        },
        "id": "uPJUzyd3xOMd",
        "outputId": "5c01fceb-1ad2-42f0-bec7-5c74bbc7666f"
      },
      "execution_count": 39,
      "outputs": [
        {
          "output_type": "stream",
          "name": "stdout",
          "text": [
            "Number of Misassignments percentage: 19.666228167039552\n"
          ]
        }
      ]
    },
    {
      "cell_type": "code",
      "source": [
        "# assuming a 0.5 threshold\n",
        "accuracy_score_propensity_net = accuracy_score(y, (preds_dnn > 0.5).astype('int'))\n",
        "print(accuracy_score_propensity_net)"
      ],
      "metadata": {
        "colab": {
          "base_uri": "https://localhost:8080/"
        },
        "id": "-udntlQBxQna",
        "outputId": "0e6be847-c352-4b44-9e8b-a934c003d670"
      },
      "execution_count": 41,
      "outputs": [
        {
          "output_type": "stream",
          "name": "stdout",
          "text": [
            "0.8033377183296044\n"
          ]
        }
      ]
    },
    {
      "cell_type": "code",
      "source": [
        "print('DNN for Propensity Score Matching')\n",
        "pd.DataFrame({'Method': ['Propensity Net', 'Logistic Regression'],\n",
        "              'Accuracy Score': [accuracy_score_propensity_net, accuracy_score_logistic_regression ],\n",
        "              'Mean Absolute Misclassification Error': [mae_propensity_net, mae_logistic_regression]})"
      ],
      "metadata": {
        "colab": {
          "base_uri": "https://localhost:8080/",
          "height": 130
        },
        "id": "jdbWCBBCw4dT",
        "outputId": "59c4ce76-920b-4f3e-990f-87982a9dc5dd"
      },
      "execution_count": 42,
      "outputs": [
        {
          "output_type": "stream",
          "name": "stdout",
          "text": [
            "DNN for Propensity Score Matching\n"
          ]
        },
        {
          "output_type": "execute_result",
          "data": {
            "text/plain": [
              "                Method  Accuracy Score  Mean Absolute Misclassification Error\n",
              "0       Propensity Net        0.803338                               0.291189\n",
              "1  Logistic Regression        0.803357                               0.290558"
            ],
            "text/html": [
              "\n",
              "  <div id=\"df-264a26f5-c615-400b-ae89-bdec1ee86b32\" class=\"colab-df-container\">\n",
              "    <div>\n",
              "<style scoped>\n",
              "    .dataframe tbody tr th:only-of-type {\n",
              "        vertical-align: middle;\n",
              "    }\n",
              "\n",
              "    .dataframe tbody tr th {\n",
              "        vertical-align: top;\n",
              "    }\n",
              "\n",
              "    .dataframe thead th {\n",
              "        text-align: right;\n",
              "    }\n",
              "</style>\n",
              "<table border=\"1\" class=\"dataframe\">\n",
              "  <thead>\n",
              "    <tr style=\"text-align: right;\">\n",
              "      <th></th>\n",
              "      <th>Method</th>\n",
              "      <th>Accuracy Score</th>\n",
              "      <th>Mean Absolute Misclassification Error</th>\n",
              "    </tr>\n",
              "  </thead>\n",
              "  <tbody>\n",
              "    <tr>\n",
              "      <th>0</th>\n",
              "      <td>Propensity Net</td>\n",
              "      <td>0.803338</td>\n",
              "      <td>0.291189</td>\n",
              "    </tr>\n",
              "    <tr>\n",
              "      <th>1</th>\n",
              "      <td>Logistic Regression</td>\n",
              "      <td>0.803357</td>\n",
              "      <td>0.290558</td>\n",
              "    </tr>\n",
              "  </tbody>\n",
              "</table>\n",
              "</div>\n",
              "    <div class=\"colab-df-buttons\">\n",
              "\n",
              "  <div class=\"colab-df-container\">\n",
              "    <button class=\"colab-df-convert\" onclick=\"convertToInteractive('df-264a26f5-c615-400b-ae89-bdec1ee86b32')\"\n",
              "            title=\"Convert this dataframe to an interactive table.\"\n",
              "            style=\"display:none;\">\n",
              "\n",
              "  <svg xmlns=\"http://www.w3.org/2000/svg\" height=\"24px\" viewBox=\"0 -960 960 960\">\n",
              "    <path d=\"M120-120v-720h720v720H120Zm60-500h600v-160H180v160Zm220 220h160v-160H400v160Zm0 220h160v-160H400v160ZM180-400h160v-160H180v160Zm440 0h160v-160H620v160ZM180-180h160v-160H180v160Zm440 0h160v-160H620v160Z\"/>\n",
              "  </svg>\n",
              "    </button>\n",
              "\n",
              "  <style>\n",
              "    .colab-df-container {\n",
              "      display:flex;\n",
              "      gap: 12px;\n",
              "    }\n",
              "\n",
              "    .colab-df-convert {\n",
              "      background-color: #E8F0FE;\n",
              "      border: none;\n",
              "      border-radius: 50%;\n",
              "      cursor: pointer;\n",
              "      display: none;\n",
              "      fill: #1967D2;\n",
              "      height: 32px;\n",
              "      padding: 0 0 0 0;\n",
              "      width: 32px;\n",
              "    }\n",
              "\n",
              "    .colab-df-convert:hover {\n",
              "      background-color: #E2EBFA;\n",
              "      box-shadow: 0px 1px 2px rgba(60, 64, 67, 0.3), 0px 1px 3px 1px rgba(60, 64, 67, 0.15);\n",
              "      fill: #174EA6;\n",
              "    }\n",
              "\n",
              "    .colab-df-buttons div {\n",
              "      margin-bottom: 4px;\n",
              "    }\n",
              "\n",
              "    [theme=dark] .colab-df-convert {\n",
              "      background-color: #3B4455;\n",
              "      fill: #D2E3FC;\n",
              "    }\n",
              "\n",
              "    [theme=dark] .colab-df-convert:hover {\n",
              "      background-color: #434B5C;\n",
              "      box-shadow: 0px 1px 3px 1px rgba(0, 0, 0, 0.15);\n",
              "      filter: drop-shadow(0px 1px 2px rgba(0, 0, 0, 0.3));\n",
              "      fill: #FFFFFF;\n",
              "    }\n",
              "  </style>\n",
              "\n",
              "    <script>\n",
              "      const buttonEl =\n",
              "        document.querySelector('#df-264a26f5-c615-400b-ae89-bdec1ee86b32 button.colab-df-convert');\n",
              "      buttonEl.style.display =\n",
              "        google.colab.kernel.accessAllowed ? 'block' : 'none';\n",
              "\n",
              "      async function convertToInteractive(key) {\n",
              "        const element = document.querySelector('#df-264a26f5-c615-400b-ae89-bdec1ee86b32');\n",
              "        const dataTable =\n",
              "          await google.colab.kernel.invokeFunction('convertToInteractive',\n",
              "                                                    [key], {});\n",
              "        if (!dataTable) return;\n",
              "\n",
              "        const docLinkHtml = 'Like what you see? Visit the ' +\n",
              "          '<a target=\"_blank\" href=https://colab.research.google.com/notebooks/data_table.ipynb>data table notebook</a>'\n",
              "          + ' to learn more about interactive tables.';\n",
              "        element.innerHTML = '';\n",
              "        dataTable['output_type'] = 'display_data';\n",
              "        await google.colab.output.renderOutput(dataTable, element);\n",
              "        const docLink = document.createElement('div');\n",
              "        docLink.innerHTML = docLinkHtml;\n",
              "        element.appendChild(docLink);\n",
              "      }\n",
              "    </script>\n",
              "  </div>\n",
              "\n",
              "\n",
              "<div id=\"df-e2e11199-d1c3-48b5-92ae-5d4f1a049bb3\">\n",
              "  <button class=\"colab-df-quickchart\" onclick=\"quickchart('df-e2e11199-d1c3-48b5-92ae-5d4f1a049bb3')\"\n",
              "            title=\"Suggest charts\"\n",
              "            style=\"display:none;\">\n",
              "\n",
              "<svg xmlns=\"http://www.w3.org/2000/svg\" height=\"24px\"viewBox=\"0 0 24 24\"\n",
              "     width=\"24px\">\n",
              "    <g>\n",
              "        <path d=\"M19 3H5c-1.1 0-2 .9-2 2v14c0 1.1.9 2 2 2h14c1.1 0 2-.9 2-2V5c0-1.1-.9-2-2-2zM9 17H7v-7h2v7zm4 0h-2V7h2v10zm4 0h-2v-4h2v4z\"/>\n",
              "    </g>\n",
              "</svg>\n",
              "  </button>\n",
              "\n",
              "<style>\n",
              "  .colab-df-quickchart {\n",
              "      --bg-color: #E8F0FE;\n",
              "      --fill-color: #1967D2;\n",
              "      --hover-bg-color: #E2EBFA;\n",
              "      --hover-fill-color: #174EA6;\n",
              "      --disabled-fill-color: #AAA;\n",
              "      --disabled-bg-color: #DDD;\n",
              "  }\n",
              "\n",
              "  [theme=dark] .colab-df-quickchart {\n",
              "      --bg-color: #3B4455;\n",
              "      --fill-color: #D2E3FC;\n",
              "      --hover-bg-color: #434B5C;\n",
              "      --hover-fill-color: #FFFFFF;\n",
              "      --disabled-bg-color: #3B4455;\n",
              "      --disabled-fill-color: #666;\n",
              "  }\n",
              "\n",
              "  .colab-df-quickchart {\n",
              "    background-color: var(--bg-color);\n",
              "    border: none;\n",
              "    border-radius: 50%;\n",
              "    cursor: pointer;\n",
              "    display: none;\n",
              "    fill: var(--fill-color);\n",
              "    height: 32px;\n",
              "    padding: 0;\n",
              "    width: 32px;\n",
              "  }\n",
              "\n",
              "  .colab-df-quickchart:hover {\n",
              "    background-color: var(--hover-bg-color);\n",
              "    box-shadow: 0 1px 2px rgba(60, 64, 67, 0.3), 0 1px 3px 1px rgba(60, 64, 67, 0.15);\n",
              "    fill: var(--button-hover-fill-color);\n",
              "  }\n",
              "\n",
              "  .colab-df-quickchart-complete:disabled,\n",
              "  .colab-df-quickchart-complete:disabled:hover {\n",
              "    background-color: var(--disabled-bg-color);\n",
              "    fill: var(--disabled-fill-color);\n",
              "    box-shadow: none;\n",
              "  }\n",
              "\n",
              "  .colab-df-spinner {\n",
              "    border: 2px solid var(--fill-color);\n",
              "    border-color: transparent;\n",
              "    border-bottom-color: var(--fill-color);\n",
              "    animation:\n",
              "      spin 1s steps(1) infinite;\n",
              "  }\n",
              "\n",
              "  @keyframes spin {\n",
              "    0% {\n",
              "      border-color: transparent;\n",
              "      border-bottom-color: var(--fill-color);\n",
              "      border-left-color: var(--fill-color);\n",
              "    }\n",
              "    20% {\n",
              "      border-color: transparent;\n",
              "      border-left-color: var(--fill-color);\n",
              "      border-top-color: var(--fill-color);\n",
              "    }\n",
              "    30% {\n",
              "      border-color: transparent;\n",
              "      border-left-color: var(--fill-color);\n",
              "      border-top-color: var(--fill-color);\n",
              "      border-right-color: var(--fill-color);\n",
              "    }\n",
              "    40% {\n",
              "      border-color: transparent;\n",
              "      border-right-color: var(--fill-color);\n",
              "      border-top-color: var(--fill-color);\n",
              "    }\n",
              "    60% {\n",
              "      border-color: transparent;\n",
              "      border-right-color: var(--fill-color);\n",
              "    }\n",
              "    80% {\n",
              "      border-color: transparent;\n",
              "      border-right-color: var(--fill-color);\n",
              "      border-bottom-color: var(--fill-color);\n",
              "    }\n",
              "    90% {\n",
              "      border-color: transparent;\n",
              "      border-bottom-color: var(--fill-color);\n",
              "    }\n",
              "  }\n",
              "</style>\n",
              "\n",
              "  <script>\n",
              "    async function quickchart(key) {\n",
              "      const quickchartButtonEl =\n",
              "        document.querySelector('#' + key + ' button');\n",
              "      quickchartButtonEl.disabled = true;  // To prevent multiple clicks.\n",
              "      quickchartButtonEl.classList.add('colab-df-spinner');\n",
              "      try {\n",
              "        const charts = await google.colab.kernel.invokeFunction(\n",
              "            'suggestCharts', [key], {});\n",
              "      } catch (error) {\n",
              "        console.error('Error during call to suggestCharts:', error);\n",
              "      }\n",
              "      quickchartButtonEl.classList.remove('colab-df-spinner');\n",
              "      quickchartButtonEl.classList.add('colab-df-quickchart-complete');\n",
              "    }\n",
              "    (() => {\n",
              "      let quickchartButtonEl =\n",
              "        document.querySelector('#df-e2e11199-d1c3-48b5-92ae-5d4f1a049bb3 button');\n",
              "      quickchartButtonEl.style.display =\n",
              "        google.colab.kernel.accessAllowed ? 'block' : 'none';\n",
              "    })();\n",
              "  </script>\n",
              "</div>\n",
              "    </div>\n",
              "  </div>\n"
            ],
            "application/vnd.google.colaboratory.intrinsic+json": {
              "type": "dataframe",
              "summary": "{\n  \"name\": \"              'Mean Absolute Misclassification Error': [mae_propensity_net, mae_logistic_regression]})\",\n  \"rows\": 2,\n  \"fields\": [\n    {\n      \"column\": \"Method\",\n      \"properties\": {\n        \"dtype\": \"string\",\n        \"num_unique_values\": 2,\n        \"samples\": [\n          \"Logistic Regression\",\n          \"Propensity Net\"\n        ],\n        \"semantic_type\": \"\",\n        \"description\": \"\"\n      }\n    },\n    {\n      \"column\": \"Accuracy Score\",\n      \"properties\": {\n        \"dtype\": \"number\",\n        \"std\": 1.3579535469242187e-05,\n        \"min\": 0.8033377183296044,\n        \"max\": 0.8033569226928358,\n        \"num_unique_values\": 2,\n        \"samples\": [\n          0.8033569226928358,\n          0.8033377183296044\n        ],\n        \"semantic_type\": \"\",\n        \"description\": \"\"\n      }\n    },\n    {\n      \"column\": \"Mean Absolute Misclassification Error\",\n      \"properties\": {\n        \"dtype\": \"number\",\n        \"std\": 0.00044669952182429677,\n        \"min\": 0.29055764020838515,\n        \"max\": 0.29118936873045465,\n        \"num_unique_values\": 2,\n        \"samples\": [\n          0.29055764020838515,\n          0.29118936873045465\n        ],\n        \"semantic_type\": \"\",\n        \"description\": \"\"\n      }\n    }\n  ]\n}"
            }
          },
          "metadata": {},
          "execution_count": 42
        }
      ]
    },
    {
      "cell_type": "code",
      "source": [
        "data = {\n",
        "    'Method': ['Propensity Net', 'Logistic Regression'],\n",
        "    'Accuracy Score': [accuracy_score_propensity_net, accuracy_score_logistic_regression],\n",
        "    'Mean Absolute Misclassification Error': [mae_propensity_net, mae_logistic_regression]\n",
        "}\n",
        "\n",
        "df_plot = pd.DataFrame(data)\n",
        "\n",
        "# Plotting\n",
        "ax = df_plot.plot(kind='bar', x='Method', figsize=(10, 6), width=0.8)\n",
        "\n",
        "# Set labels and title\n",
        "ax.set_xlabel(\"Method\", fontsize=12)\n",
        "ax.set_ylabel(\"Score\", fontsize=12)\n",
        "ax.set_title(\"Comparison of Classification Methods\", fontsize=14)\n",
        "\n",
        "# Rotate x-axis labels for better readability\n",
        "ax.set_xticklabels(ax.get_xticklabels(), rotation=0)\n",
        "\n",
        "# Adding legend\n",
        "ax.legend(title=\"Metrics\")\n",
        "\n",
        "# Show the plot\n",
        "plt.show()"
      ],
      "metadata": {
        "colab": {
          "base_uri": "https://localhost:8080/",
          "height": 569
        },
        "id": "OUZDNk85zClH",
        "outputId": "f0b64e11-d62d-45db-fa51-6e07c36cfd4d"
      },
      "execution_count": 46,
      "outputs": [
        {
          "output_type": "display_data",
          "data": {
            "text/plain": [
              "<Figure size 1000x600 with 1 Axes>"
            ],
            "image/png": "[encoded data removed]"
          },
          "metadata": {}
        }
      ]
    },
    {
      "cell_type": "markdown",
      "metadata": {
        "id": "gaYJQ9yorm-l"
      },
      "source": [
        "# Deep Learning for Causal Inference\n",
        "\n",
        "This README summarizes the key points and contributions of the paper \"Deep Learning for Causal Inference\" by Vikas Ramachandra.\n",
        "\n",
        "## 1. Generalized Neighbor Matching using Autoencoders\n",
        "\n",
        "The paper proposes using autoencoders, a type of deep neural network, for dimensionality reduction while preserving the local neighborhood structure of the data. This is useful for generalized neighbor matching to estimate individual treatment effects (ITEs).\n",
        "\n",
        "The key points are:\n",
        "\n",
        "* In high dimensions, traditional neighbor matching methods like k-nearest neighbors struggle\n",
        "* Autoencoders can learn a low-dimensional representation that captures the manifold structure\n",
        "* This low-dimensional encoding preserves local neighborhoods for accurate neighbor identification\n",
        "* Experiments show autoencoders outperform methods like manifold learning for ITE estimation\n",
        "\n",
        "## 2. Deep Neural Networks (DNNs) for Propensity Score Matching\n",
        "\n",
        "Propensity score matching is a popular technique, but traditionally uses logistic regression for propensity score estimation. The paper proposes using deep neural network classifiers instead, presenting a model called PropensityNet.\n",
        "\n",
        "The key points are:\n",
        "\n",
        "* DNNs can potentially capture complex non-linear relationships better than logistic regression\n",
        "* PropensityNet is trained to estimate propensity scores as a binary classification problem\n",
        "* Experiments show PropensityNet outperforms logistic regression for propensity score estimation\n",
        "* This leads to better matching of treated and untreated units for ITE calculation\n",
        "\n",
        "## Overall Contribution\n",
        "\n",
        "The paper argues that deep learning models like autoencoders and DNNs can improve upon traditional methods for neighbor matching and propensity score estimation, two crucial steps in causal inference for estimating individual and average treatment effects.\n",
        "\n",
        "The main contributions are introducing these deep learning approaches, evaluating them on simulated datasets, and demonstrating their potential advantages over existing techniques through experimental results."
      ]
    },
    {
      "cell_type": "markdown",
      "metadata": {
        "id": "DrkMUUPOrm-l"
      },
      "source": []
    }
  ],
  "metadata": {
    "colab": {
      "provenance": []
    },
    "kernelspec": {
      "display_name": "usc",
      "language": "python",
      "name": "python3"
    },
    "language_info": {
      "codemirror_mode": {
        "name": "ipython",
        "version": 3
      },
      "file_extension": ".py",
      "mimetype": "text/x-python",
      "name": "python",
      "nbconvert_exporter": "python",
      "pygments_lexer": "ipython3",
      "version": "3.10.13"
    }
  },
  "nbformat": 4,
  "nbformat_minor": 0
}