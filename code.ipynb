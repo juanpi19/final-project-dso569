{
 "cells": [
  {
   "cell_type": "code",
   "execution_count": 2,
   "metadata": {},
   "outputs": [],
   "source": [
    "import pandas as pd\n",
    "import numpy as np\n",
    "import matplotlib.pyplot as plt"
   ]
  },
  {
   "cell_type": "code",
   "execution_count": 30,
   "metadata": {},
   "outputs": [],
   "source": [
    "df = pd.read_csv('data_for_churn_analysis.csv')"
   ]
  },
  {
   "cell_type": "code",
   "execution_count": 11,
   "metadata": {},
   "outputs": [
    {
     "data": {
      "text/plain": [
       "(104143, 18)"
      ]
     },
     "execution_count": 11,
     "metadata": {},
     "output_type": "execute_result"
    }
   ],
   "source": [
    "df.shape"
   ]
  },
  {
   "cell_type": "code",
   "execution_count": 4,
   "metadata": {},
   "outputs": [
    {
     "data": {
      "text/html": [
       "<div>\n",
       "<style scoped>\n",
       "    .dataframe tbody tr th:only-of-type {\n",
       "        vertical-align: middle;\n",
       "    }\n",
       "\n",
       "    .dataframe tbody tr th {\n",
       "        vertical-align: top;\n",
       "    }\n",
       "\n",
       "    .dataframe thead th {\n",
       "        text-align: right;\n",
       "    }\n",
       "</style>\n",
       "<table border=\"1\" class=\"dataframe\">\n",
       "  <thead>\n",
       "    <tr style=\"text-align: right;\">\n",
       "      <th></th>\n",
       "      <th>device</th>\n",
       "      <th>first_payment_amount</th>\n",
       "      <th>age</th>\n",
       "      <th>city</th>\n",
       "      <th>number_of_cards</th>\n",
       "      <th>payments_initiated</th>\n",
       "      <th>payments_failed</th>\n",
       "      <th>payments_completed</th>\n",
       "      <th>payments_completed_amount_first_7days</th>\n",
       "      <th>reward_purchase_count_first_7days</th>\n",
       "      <th>coins_redeemed_first_7days</th>\n",
       "      <th>is_referral</th>\n",
       "      <th>visits_feature_1</th>\n",
       "      <th>visits_feature_2</th>\n",
       "      <th>given_permission_1</th>\n",
       "      <th>given_permission_2</th>\n",
       "      <th>user_id</th>\n",
       "      <th>is_churned</th>\n",
       "    </tr>\n",
       "  </thead>\n",
       "  <tbody>\n",
       "    <tr>\n",
       "      <th>0</th>\n",
       "      <td>samsung</td>\n",
       "      <td>0</td>\n",
       "      <td>20.0</td>\n",
       "      <td>Ahmedabad</td>\n",
       "      <td>2.0</td>\n",
       "      <td>1.0</td>\n",
       "      <td>0.0</td>\n",
       "      <td>1.0</td>\n",
       "      <td>0.0</td>\n",
       "      <td>NaN</td>\n",
       "      <td>0.0</td>\n",
       "      <td>False</td>\n",
       "      <td>3.0</td>\n",
       "      <td>0.0</td>\n",
       "      <td>1</td>\n",
       "      <td>0</td>\n",
       "      <td>269438</td>\n",
       "      <td>0</td>\n",
       "    </tr>\n",
       "    <tr>\n",
       "      <th>1</th>\n",
       "      <td>xiaomi</td>\n",
       "      <td>0</td>\n",
       "      <td>20.0</td>\n",
       "      <td>Surat</td>\n",
       "      <td>1.0</td>\n",
       "      <td>1.0</td>\n",
       "      <td>0.0</td>\n",
       "      <td>1.0</td>\n",
       "      <td>0.0</td>\n",
       "      <td>NaN</td>\n",
       "      <td>0.0</td>\n",
       "      <td>True</td>\n",
       "      <td>0.0</td>\n",
       "      <td>0.0</td>\n",
       "      <td>1</td>\n",
       "      <td>0</td>\n",
       "      <td>139521</td>\n",
       "      <td>0</td>\n",
       "    </tr>\n",
       "    <tr>\n",
       "      <th>2</th>\n",
       "      <td>xiaomi</td>\n",
       "      <td>0</td>\n",
       "      <td>20.0</td>\n",
       "      <td>Kullu</td>\n",
       "      <td>1.0</td>\n",
       "      <td>2.0</td>\n",
       "      <td>1.0</td>\n",
       "      <td>1.0</td>\n",
       "      <td>0.0</td>\n",
       "      <td>0.0</td>\n",
       "      <td>0.0</td>\n",
       "      <td>True</td>\n",
       "      <td>0.0</td>\n",
       "      <td>0.0</td>\n",
       "      <td>0</td>\n",
       "      <td>1</td>\n",
       "      <td>307352</td>\n",
       "      <td>0</td>\n",
       "    </tr>\n",
       "    <tr>\n",
       "      <th>3</th>\n",
       "      <td>oneplus</td>\n",
       "      <td>0</td>\n",
       "      <td>20.0</td>\n",
       "      <td>Mumbai</td>\n",
       "      <td>2.0</td>\n",
       "      <td>4.0</td>\n",
       "      <td>1.0</td>\n",
       "      <td>2.0</td>\n",
       "      <td>322.0</td>\n",
       "      <td>2.0</td>\n",
       "      <td>20.0</td>\n",
       "      <td>False</td>\n",
       "      <td>0.0</td>\n",
       "      <td>0.0</td>\n",
       "      <td>1</td>\n",
       "      <td>1</td>\n",
       "      <td>456424</td>\n",
       "      <td>0</td>\n",
       "    </tr>\n",
       "    <tr>\n",
       "      <th>4</th>\n",
       "      <td>apple</td>\n",
       "      <td>0</td>\n",
       "      <td>20.0</td>\n",
       "      <td>Pune</td>\n",
       "      <td>2.0</td>\n",
       "      <td>1.0</td>\n",
       "      <td>0.0</td>\n",
       "      <td>1.0</td>\n",
       "      <td>0.0</td>\n",
       "      <td>0.0</td>\n",
       "      <td>0.0</td>\n",
       "      <td>False</td>\n",
       "      <td>0.0</td>\n",
       "      <td>1.0</td>\n",
       "      <td>1</td>\n",
       "      <td>1</td>\n",
       "      <td>398779</td>\n",
       "      <td>0</td>\n",
       "    </tr>\n",
       "  </tbody>\n",
       "</table>\n",
       "</div>"
      ],
      "text/plain": [
       "    device  first_payment_amount   age       city  number_of_cards  \\\n",
       "0  samsung                     0  20.0  Ahmedabad              2.0   \n",
       "1   xiaomi                     0  20.0      Surat              1.0   \n",
       "2   xiaomi                     0  20.0      Kullu              1.0   \n",
       "3  oneplus                     0  20.0     Mumbai              2.0   \n",
       "4    apple                     0  20.0       Pune              2.0   \n",
       "\n",
       "   payments_initiated  payments_failed  payments_completed  \\\n",
       "0                 1.0              0.0                 1.0   \n",
       "1                 1.0              0.0                 1.0   \n",
       "2                 2.0              1.0                 1.0   \n",
       "3                 4.0              1.0                 2.0   \n",
       "4                 1.0              0.0                 1.0   \n",
       "\n",
       "   payments_completed_amount_first_7days  reward_purchase_count_first_7days  \\\n",
       "0                                    0.0                                NaN   \n",
       "1                                    0.0                                NaN   \n",
       "2                                    0.0                                0.0   \n",
       "3                                  322.0                                2.0   \n",
       "4                                    0.0                                0.0   \n",
       "\n",
       "   coins_redeemed_first_7days  is_referral  visits_feature_1  \\\n",
       "0                         0.0        False               3.0   \n",
       "1                         0.0         True               0.0   \n",
       "2                         0.0         True               0.0   \n",
       "3                        20.0        False               0.0   \n",
       "4                         0.0        False               0.0   \n",
       "\n",
       "   visits_feature_2  given_permission_1  given_permission_2  user_id  \\\n",
       "0               0.0                   1                   0   269438   \n",
       "1               0.0                   1                   0   139521   \n",
       "2               0.0                   0                   1   307352   \n",
       "3               0.0                   1                   1   456424   \n",
       "4               1.0                   1                   1   398779   \n",
       "\n",
       "   is_churned  \n",
       "0           0  \n",
       "1           0  \n",
       "2           0  \n",
       "3           0  \n",
       "4           0  "
      ]
     },
     "execution_count": 4,
     "metadata": {},
     "output_type": "execute_result"
    }
   ],
   "source": [
    "df.head()"
   ]
  },
  {
   "cell_type": "code",
   "execution_count": 10,
   "metadata": {},
   "outputs": [
    {
     "data": {
      "text/plain": [
       "is_churned\n",
       "0    0.713192\n",
       "1    0.286808\n",
       "Name: proportion, dtype: float64"
      ]
     },
     "execution_count": 10,
     "metadata": {},
     "output_type": "execute_result"
    }
   ],
   "source": [
    "df['is_churned'].value_counts(normalize=True)"
   ]
  },
  {
   "cell_type": "code",
   "execution_count": 12,
   "metadata": {},
   "outputs": [
    {
     "data": {
      "text/plain": [
       "Index(['device', 'first_payment_amount', 'age', 'city', 'number_of_cards',\n",
       "       'payments_initiated', 'payments_failed', 'payments_completed',\n",
       "       'payments_completed_amount_first_7days',\n",
       "       'reward_purchase_count_first_7days', 'coins_redeemed_first_7days',\n",
       "       'is_referral', 'visits_feature_1', 'visits_feature_2',\n",
       "       'given_permission_1', 'given_permission_2', 'user_id', 'is_churned'],\n",
       "      dtype='object')"
      ]
     },
     "execution_count": 12,
     "metadata": {},
     "output_type": "execute_result"
    }
   ],
   "source": [
    "df.columns"
   ]
  },
  {
   "cell_type": "code",
   "execution_count": null,
   "metadata": {},
   "outputs": [],
   "source": []
  },
  {
   "cell_type": "markdown",
   "metadata": {},
   "source": [
    "## **Deep neural networks (DNNs) for propensity score matching**"
   ]
  },
  {
   "cell_type": "markdown",
   "metadata": {},
   "source": [
    "1. **Impact of Referrals on Customer Acquisition and Retention**:\n",
    "   - Research Question: Do customers acquired through referrals (`is_referral`) exhibit different behaviors and retention rates compared to non-referred customers?\n",
    "   - Treatment: Customer acquisition through referrals\n",
    "   - Outcome: Customer behavior (e.g., `payments_initiated`, `payments_completed`, `visits_feature_1`, `visits_feature_2`) and churn (`is_churned`)\n",
    "   - Potential Confounders: `device`, `age`, `city`, `number_of_cards`, `payments_failed`, `payments_completed_amount_first_7days`, `reward_purchase_count_first_7days`, `coins_redeemed_first_7days`, `given_permission_1`, `given_permission_2`"
   ]
  },
  {
   "cell_type": "code",
   "execution_count": 57,
   "metadata": {},
   "outputs": [],
   "source": [
    "# Packages\n",
    "\n",
    "from sklearn.preprocessing import LabelEncoder\n",
    "from sklearn.model_selection import train_test_split\n",
    "\n",
    "import torch\n",
    "import torch.nn as nn"
   ]
  },
  {
   "cell_type": "markdown",
   "metadata": {},
   "source": [
    "### **Preprocessing**"
   ]
  },
  {
   "cell_type": "code",
   "execution_count": 33,
   "metadata": {},
   "outputs": [],
   "source": [
    "# Preprocessing\n",
    "obj_cols = X.select_dtypes(include='object').columns\n",
    "le = LabelEncoder()\n",
    "for col in obj_cols:\n",
    "    [col] = le.fit_transform(df[col])\n",
    "\n",
    "df['is_referral'] = df['is_referral'].astype('int')\n"
   ]
  },
  {
   "cell_type": "code",
   "execution_count": 44,
   "metadata": {},
   "outputs": [],
   "source": [
    "# Dealing with missing values\n",
    "missing_cols = df.columns[df.isna().any()].tolist()\n",
    "for col in missing_cols:\n",
    "    df[col] = df[col].fillna(df[col].mean())"
   ]
  },
  {
   "cell_type": "markdown",
   "metadata": {},
   "source": [
    "### **Data Split**"
   ]
  },
  {
   "cell_type": "code",
   "execution_count": 49,
   "metadata": {},
   "outputs": [],
   "source": [
    "confounders = [\n",
    "    'device',\n",
    "    'age',\n",
    "    'city',\n",
    "    'number_of_cards',\n",
    "    'payments_failed',\n",
    "    'payments_completed_amount_first_7days',\n",
    "    'reward_purchase_count_first_7days',\n",
    "    'coins_redeemed_first_7days',\n",
    "    'given_permission_1',\n",
    "    'given_permission_2',\n",
    "    'is_referral' # treatment\n",
    "]\n",
    "\n",
    "# \n",
    "y = df['is_churned']\n",
    "X = df[confounders]"
   ]
  },
  {
   "cell_type": "code",
   "execution_count": 52,
   "metadata": {},
   "outputs": [],
   "source": [
    "X_train, X_val, y_train, y_val = train_test_split(X, y, test_size=0.2, random_state=42)"
   ]
  },
  {
   "cell_type": "code",
   "execution_count": 62,
   "metadata": {},
   "outputs": [
    {
     "ename": "",
     "evalue": "",
     "output_type": "error",
     "traceback": [
      "\u001b[1;31mThe Kernel crashed while executing code in the current cell or a previous cell. \n",
      "\u001b[1;31mPlease review the code in the cell(s) to identify a possible cause of the failure. \n",
      "\u001b[1;31mClick <a href='https://aka.ms/vscodeJupyterKernelCrash'>here</a> for more info. \n",
      "\u001b[1;31mView Jupyter <a href='command:jupyter.viewOutput'>log</a> for further details."
     ]
    }
   ],
   "source": [
    "# converting to pytorch tensors\n",
    "X_train = torch.tensor(X_train.to_numpy(), dtype=torch.float32)\n",
    "y_train = torch.tensor(y_train, dtype=torch.long)\n",
    "X_val = torch.tensor(X_val.to_numpy(), dtype=torch.float32)\n",
    "y_val = torch.tensor(y_val, dtype=torch.long)"
   ]
  },
  {
   "cell_type": "code",
   "execution_count": 61,
   "metadata": {},
   "outputs": [
    {
     "data": {
      "text/plain": [
       "array([[ 25.,  34., 438., ...,   1.,   1.,   1.],\n",
       "       [ 67.,  31.,   5., ...,   1.,   0.,   0.],\n",
       "       [ 69.,  39., 438., ...,   1.,   0.,   0.],\n",
       "       ...,\n",
       "       [ 42.,  67., 259., ...,   1.,   0.,   1.],\n",
       "       [  2.,  22.,  63., ...,   1.,   1.,   0.],\n",
       "       [ 54.,  26., 105., ...,   1.,   1.,   0.]])"
      ]
     },
     "execution_count": 61,
     "metadata": {},
     "output_type": "execute_result"
    }
   ],
   "source": [
    "X_train.to_numpy()"
   ]
  },
  {
   "cell_type": "code",
   "execution_count": null,
   "metadata": {},
   "outputs": [],
   "source": []
  }
 ],
 "metadata": {
  "kernelspec": {
   "display_name": "usc",
   "language": "python",
   "name": "python3"
  },
  "language_info": {
   "codemirror_mode": {
    "name": "ipython",
    "version": 3
   },
   "file_extension": ".py",
   "mimetype": "text/x-python",
   "name": "python",
   "nbconvert_exporter": "python",
   "pygments_lexer": "ipython3",
   "version": "3.12.2"
  }
 },
 "nbformat": 4,
 "nbformat_minor": 2
}
